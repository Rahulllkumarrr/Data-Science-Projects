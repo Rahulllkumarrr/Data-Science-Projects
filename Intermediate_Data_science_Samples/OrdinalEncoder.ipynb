{
 "cells": [
  {
   "cell_type": "code",
   "execution_count": 1,
   "metadata": {
    "colab": {
     "base_uri": "https://localhost:8080/",
     "height": 340
    },
    "colab_type": "code",
    "id": "E57puY94SXSh",
    "outputId": "538e02c9-7305-43ab-9f98-8cdf531ba6c8"
   },
   "outputs": [],
   "source": [
    "# Import basic libraries\n",
    "import numpy as np\n",
    "import pandas as pd\n",
    "import matplotlib.pyplot as plt\n",
    "import seaborn as sns\n",
    "import statsmodels.api as sm\n",
    "from collections import Counter\n",
    "import warnings\n",
    "warnings.filterwarnings('ignore')\n"
   ]
  },
  {
   "cell_type": "code",
   "execution_count": 2,
   "metadata": {},
   "outputs": [
    {
     "data": {
      "text/html": [
       "<div>\n",
       "<style scoped>\n",
       "    .dataframe tbody tr th:only-of-type {\n",
       "        vertical-align: middle;\n",
       "    }\n",
       "\n",
       "    .dataframe tbody tr th {\n",
       "        vertical-align: top;\n",
       "    }\n",
       "\n",
       "    .dataframe thead th {\n",
       "        text-align: right;\n",
       "    }\n",
       "</style>\n",
       "<table border=\"1\" class=\"dataframe\">\n",
       "  <thead>\n",
       "    <tr style=\"text-align: right;\">\n",
       "      <th></th>\n",
       "      <th>encounter_id</th>\n",
       "      <th>patient_nbr</th>\n",
       "      <th>race</th>\n",
       "      <th>gender</th>\n",
       "      <th>age</th>\n",
       "      <th>weight</th>\n",
       "      <th>admission_type_id</th>\n",
       "      <th>discharge_disposition_id</th>\n",
       "      <th>admission_source_id</th>\n",
       "      <th>time_in_hospital</th>\n",
       "      <th>...</th>\n",
       "      <th>citoglipton</th>\n",
       "      <th>insulin</th>\n",
       "      <th>glyburide-metformin</th>\n",
       "      <th>glipizide-metformin</th>\n",
       "      <th>glimepiride-pioglitazone</th>\n",
       "      <th>metformin-rosiglitazone</th>\n",
       "      <th>metformin-pioglitazone</th>\n",
       "      <th>change</th>\n",
       "      <th>diabetesMed</th>\n",
       "      <th>readmitted</th>\n",
       "    </tr>\n",
       "  </thead>\n",
       "  <tbody>\n",
       "    <tr>\n",
       "      <th>0</th>\n",
       "      <td>2278392</td>\n",
       "      <td>8222157</td>\n",
       "      <td>Caucasian</td>\n",
       "      <td>Female</td>\n",
       "      <td>[0-10)</td>\n",
       "      <td>?</td>\n",
       "      <td>6</td>\n",
       "      <td>25</td>\n",
       "      <td>1</td>\n",
       "      <td>1</td>\n",
       "      <td>...</td>\n",
       "      <td>No</td>\n",
       "      <td>No</td>\n",
       "      <td>No</td>\n",
       "      <td>No</td>\n",
       "      <td>No</td>\n",
       "      <td>No</td>\n",
       "      <td>No</td>\n",
       "      <td>No</td>\n",
       "      <td>No</td>\n",
       "      <td>NO</td>\n",
       "    </tr>\n",
       "    <tr>\n",
       "      <th>1</th>\n",
       "      <td>149190</td>\n",
       "      <td>55629189</td>\n",
       "      <td>Caucasian</td>\n",
       "      <td>Female</td>\n",
       "      <td>[10-20)</td>\n",
       "      <td>?</td>\n",
       "      <td>1</td>\n",
       "      <td>1</td>\n",
       "      <td>7</td>\n",
       "      <td>3</td>\n",
       "      <td>...</td>\n",
       "      <td>No</td>\n",
       "      <td>Up</td>\n",
       "      <td>No</td>\n",
       "      <td>No</td>\n",
       "      <td>No</td>\n",
       "      <td>No</td>\n",
       "      <td>No</td>\n",
       "      <td>Ch</td>\n",
       "      <td>Yes</td>\n",
       "      <td>&gt;30</td>\n",
       "    </tr>\n",
       "    <tr>\n",
       "      <th>2</th>\n",
       "      <td>64410</td>\n",
       "      <td>86047875</td>\n",
       "      <td>AfricanAmerican</td>\n",
       "      <td>Female</td>\n",
       "      <td>[20-30)</td>\n",
       "      <td>?</td>\n",
       "      <td>1</td>\n",
       "      <td>1</td>\n",
       "      <td>7</td>\n",
       "      <td>2</td>\n",
       "      <td>...</td>\n",
       "      <td>No</td>\n",
       "      <td>No</td>\n",
       "      <td>No</td>\n",
       "      <td>No</td>\n",
       "      <td>No</td>\n",
       "      <td>No</td>\n",
       "      <td>No</td>\n",
       "      <td>No</td>\n",
       "      <td>Yes</td>\n",
       "      <td>NO</td>\n",
       "    </tr>\n",
       "    <tr>\n",
       "      <th>3</th>\n",
       "      <td>500364</td>\n",
       "      <td>82442376</td>\n",
       "      <td>Caucasian</td>\n",
       "      <td>Male</td>\n",
       "      <td>[30-40)</td>\n",
       "      <td>?</td>\n",
       "      <td>1</td>\n",
       "      <td>1</td>\n",
       "      <td>7</td>\n",
       "      <td>2</td>\n",
       "      <td>...</td>\n",
       "      <td>No</td>\n",
       "      <td>Up</td>\n",
       "      <td>No</td>\n",
       "      <td>No</td>\n",
       "      <td>No</td>\n",
       "      <td>No</td>\n",
       "      <td>No</td>\n",
       "      <td>Ch</td>\n",
       "      <td>Yes</td>\n",
       "      <td>NO</td>\n",
       "    </tr>\n",
       "    <tr>\n",
       "      <th>4</th>\n",
       "      <td>16680</td>\n",
       "      <td>42519267</td>\n",
       "      <td>Caucasian</td>\n",
       "      <td>Male</td>\n",
       "      <td>[40-50)</td>\n",
       "      <td>?</td>\n",
       "      <td>1</td>\n",
       "      <td>1</td>\n",
       "      <td>7</td>\n",
       "      <td>1</td>\n",
       "      <td>...</td>\n",
       "      <td>No</td>\n",
       "      <td>Steady</td>\n",
       "      <td>No</td>\n",
       "      <td>No</td>\n",
       "      <td>No</td>\n",
       "      <td>No</td>\n",
       "      <td>No</td>\n",
       "      <td>Ch</td>\n",
       "      <td>Yes</td>\n",
       "      <td>NO</td>\n",
       "    </tr>\n",
       "  </tbody>\n",
       "</table>\n",
       "<p>5 rows × 50 columns</p>\n",
       "</div>"
      ],
      "text/plain": [
       "   encounter_id  patient_nbr             race  gender      age weight  \\\n",
       "0       2278392      8222157        Caucasian  Female   [0-10)      ?   \n",
       "1        149190     55629189        Caucasian  Female  [10-20)      ?   \n",
       "2         64410     86047875  AfricanAmerican  Female  [20-30)      ?   \n",
       "3        500364     82442376        Caucasian    Male  [30-40)      ?   \n",
       "4         16680     42519267        Caucasian    Male  [40-50)      ?   \n",
       "\n",
       "   admission_type_id  discharge_disposition_id  admission_source_id  \\\n",
       "0                  6                        25                    1   \n",
       "1                  1                         1                    7   \n",
       "2                  1                         1                    7   \n",
       "3                  1                         1                    7   \n",
       "4                  1                         1                    7   \n",
       "\n",
       "   time_in_hospital  ... citoglipton insulin  glyburide-metformin  \\\n",
       "0                 1  ...          No      No                   No   \n",
       "1                 3  ...          No      Up                   No   \n",
       "2                 2  ...          No      No                   No   \n",
       "3                 2  ...          No      Up                   No   \n",
       "4                 1  ...          No  Steady                   No   \n",
       "\n",
       "   glipizide-metformin  glimepiride-pioglitazone  metformin-rosiglitazone  \\\n",
       "0                   No                        No                       No   \n",
       "1                   No                        No                       No   \n",
       "2                   No                        No                       No   \n",
       "3                   No                        No                       No   \n",
       "4                   No                        No                       No   \n",
       "\n",
       "   metformin-pioglitazone  change diabetesMed readmitted  \n",
       "0                      No      No          No         NO  \n",
       "1                      No      Ch         Yes        >30  \n",
       "2                      No      No         Yes         NO  \n",
       "3                      No      Ch         Yes         NO  \n",
       "4                      No      Ch         Yes         NO  \n",
       "\n",
       "[5 rows x 50 columns]"
      ]
     },
     "execution_count": 2,
     "metadata": {},
     "output_type": "execute_result"
    }
   ],
   "source": [
    "dataset = pd.read_csv('input Copy.csv')\n",
    "# check dataset structure\n",
    "dataset.head(5)"
   ]
  },
  {
   "cell_type": "markdown",
   "metadata": {
    "colab_type": "text",
    "id": "FBkfzYC6Urkc"
   },
   "source": []
  },
  {
   "cell_type": "code",
   "execution_count": 3,
   "metadata": {
    "colab": {
     "base_uri": "https://localhost:8080/",
     "height": 959
    },
    "colab_type": "code",
    "id": "zF-EWvjjSXSr",
    "outputId": "df8cfca2-c606-4035-9f15-4c2b68f48663",
    "scrolled": true
   },
   "outputs": [
    {
     "name": "stdout",
     "output_type": "stream",
     "text": [
      "Table 1.0: Original features datatypes \n",
      "\n",
      "                     Feature  Data type\n",
      "0               encounter_id      int64\n",
      "1                patient_nbr      int64\n",
      "2                       race  Character\n",
      "3                     gender  Character\n",
      "4                        age  Character\n",
      "5                     weight  Character\n",
      "6          admission_type_id      int64\n",
      "7   discharge_disposition_id      int64\n",
      "8        admission_source_id      int64\n",
      "9           time_in_hospital      int64\n",
      "10                payer_code  Character\n",
      "11         medical_specialty  Character\n",
      "12        num_lab_procedures      int64\n",
      "13            num_procedures      int64\n",
      "14           num_medications      int64\n",
      "15         number_outpatient      int64\n",
      "16          number_emergency      int64\n",
      "17          number_inpatient      int64\n",
      "18                    diag_1  Character\n",
      "19                    diag_2  Character\n",
      "20                    diag_3  Character\n",
      "21          number_diagnoses      int64\n",
      "22             max_glu_serum  Character\n",
      "23                 A1Cresult  Character\n",
      "24                 metformin  Character\n",
      "25               repaglinide  Character\n",
      "26               nateglinide  Character\n",
      "27            chlorpropamide  Character\n",
      "28               glimepiride  Character\n",
      "29             acetohexamide  Character\n",
      "30                 glipizide  Character\n",
      "31                 glyburide  Character\n",
      "32               tolbutamide  Character\n",
      "33              pioglitazone  Character\n",
      "34             rosiglitazone  Character\n",
      "35                  acarbose  Character\n",
      "36                  miglitol  Character\n",
      "37              troglitazone  Character\n",
      "38                tolazamide  Character\n",
      "39                   examide  Character\n",
      "40               citoglipton  Character\n",
      "41                   insulin  Character\n",
      "42       glyburide-metformin  Character\n",
      "43       glipizide-metformin  Character\n",
      "44  glimepiride-pioglitazone  Character\n",
      "45   metformin-rosiglitazone  Character\n",
      "46    metformin-pioglitazone  Character\n",
      "47                    change  Character\n",
      "48               diabetesMed  Character\n",
      "49                readmitted  Character\n"
     ]
    }
   ],
   "source": [
    "# Table 1.0: Original features datatypes\n",
    "tbl_dataformat = []\n",
    "for c in dataset.columns:\n",
    "    tbl_dataformat.append([c,'Character' if dataset[c].dtype == 'object' else dataset[c].dtype])\n",
    "print('Table 1.0: Original features datatypes \\n')      \n",
    "tbl_dataformat = pd.DataFrame(tbl_dataformat,columns=['Feature','Data type'])\n",
    "print(tbl_dataformat)"
   ]
  },
  {
   "cell_type": "code",
   "execution_count": 4,
   "metadata": {
    "colab": {
     "base_uri": "https://localhost:8080/",
     "height": 1000
    },
    "colab_type": "code",
    "id": "4g1cP5CaZqfQ",
    "outputId": "5200f0a5-4916-4df5-fe5f-4c8e07561f08"
   },
   "outputs": [
    {
     "name": "stdout",
     "output_type": "stream",
     "text": [
      "\n",
      " Feature:race \n",
      "Caucasian          76099\n",
      "AfricanAmerican    19210\n",
      "?                   2273\n",
      "Hispanic            2037\n",
      "Other               1506\n",
      "Asian                641\n",
      "Name: race, dtype: int64\n",
      "\n",
      " Feature:gender \n",
      "Female             54708\n",
      "Male               47055\n",
      "Unknown/Invalid        3\n",
      "Name: gender, dtype: int64\n",
      "\n",
      " Feature:age \n",
      "[70-80)     26068\n",
      "[60-70)     22483\n",
      "[50-60)     17256\n",
      "[80-90)     17197\n",
      "[40-50)      9685\n",
      "[30-40)      3775\n",
      "[90-100)     2793\n",
      "[20-30)      1657\n",
      "[10-20)       691\n",
      "[0-10)        161\n",
      "Name: age, dtype: int64\n",
      "\n",
      " Feature:weight \n",
      "?            98569\n",
      "[75-100)      1336\n",
      "[50-75)        897\n",
      "[100-125)      625\n",
      "[125-150)      145\n",
      "[25-50)         97\n",
      "[0-25)          48\n",
      "[150-175)       35\n",
      "[175-200)       11\n",
      ">200             3\n",
      "Name: weight, dtype: int64\n",
      "\n",
      " Feature:payer_code \n",
      "?     40256\n",
      "MC    32439\n",
      "HM     6274\n",
      "SP     5007\n",
      "BC     4655\n",
      "MD     3532\n",
      "CP     2533\n",
      "UN     2448\n",
      "CM     1937\n",
      "OG     1033\n",
      "PO      592\n",
      "DM      549\n",
      "CH      146\n",
      "WC      135\n",
      "OT       95\n",
      "MP       79\n",
      "SI       55\n",
      "FR        1\n",
      "Name: payer_code, dtype: int64\n",
      "\n",
      " Feature:medical_specialty \n",
      "?                         49949\n",
      "InternalMedicine          14635\n",
      "Emergency/Trauma           7565\n",
      "Family/GeneralPractice     7440\n",
      "Cardiology                 5352\n",
      "                          ...  \n",
      "Perinatology                  1\n",
      "SportsMedicine                1\n",
      "Neurophysiology               1\n",
      "Psychiatry-Addictive          1\n",
      "Speech                        1\n",
      "Name: medical_specialty, Length: 73, dtype: int64\n",
      "\n",
      " Feature:diag_1 \n",
      "428    6862\n",
      "414    6581\n",
      "786    4016\n",
      "410    3614\n",
      "486    3508\n",
      "       ... \n",
      "640       1\n",
      "365       1\n",
      "V43       1\n",
      "838       1\n",
      "372       1\n",
      "Name: diag_1, Length: 717, dtype: int64\n",
      "\n",
      " Feature:diag_2 \n",
      "276     6752\n",
      "428     6662\n",
      "250     6071\n",
      "427     5036\n",
      "401     3736\n",
      "        ... \n",
      "V13        1\n",
      "963        1\n",
      "302        1\n",
      "114        1\n",
      "E965       1\n",
      "Name: diag_2, Length: 749, dtype: int64\n",
      "\n",
      " Feature:diag_3 \n",
      "250     11555\n",
      "401      8289\n",
      "276      5175\n",
      "428      4577\n",
      "427      3955\n",
      "        ...  \n",
      "E815        1\n",
      "V07         1\n",
      "243         1\n",
      "49          1\n",
      "308         1\n",
      "Name: diag_3, Length: 790, dtype: int64\n",
      "\n",
      " Feature:max_glu_serum \n",
      "None    96420\n",
      "Norm     2597\n",
      ">200     1485\n",
      ">300     1264\n",
      "Name: max_glu_serum, dtype: int64\n",
      "\n",
      " Feature:A1Cresult \n",
      "None    84748\n",
      ">8       8216\n",
      "Norm     4990\n",
      ">7       3812\n",
      "Name: A1Cresult, dtype: int64\n",
      "\n",
      " Feature:metformin \n",
      "No        81778\n",
      "Steady    18346\n",
      "Up         1067\n",
      "Down        575\n",
      "Name: metformin, dtype: int64\n",
      "\n",
      " Feature:repaglinide \n",
      "No        100227\n",
      "Steady      1384\n",
      "Up           110\n",
      "Down          45\n",
      "Name: repaglinide, dtype: int64\n",
      "\n",
      " Feature:nateglinide \n",
      "No        101063\n",
      "Steady       668\n",
      "Up            24\n",
      "Down          11\n",
      "Name: nateglinide, dtype: int64\n",
      "\n",
      " Feature:chlorpropamide \n",
      "No        101680\n",
      "Steady        79\n",
      "Up             6\n",
      "Down           1\n",
      "Name: chlorpropamide, dtype: int64\n",
      "\n",
      " Feature:glimepiride \n",
      "No        96575\n",
      "Steady     4670\n",
      "Up          327\n",
      "Down        194\n",
      "Name: glimepiride, dtype: int64\n",
      "\n",
      " Feature:acetohexamide \n",
      "No        101765\n",
      "Steady         1\n",
      "Name: acetohexamide, dtype: int64\n",
      "\n",
      " Feature:glipizide \n",
      "No        89080\n",
      "Steady    11356\n",
      "Up          770\n",
      "Down        560\n",
      "Name: glipizide, dtype: int64\n",
      "\n",
      " Feature:glyburide \n",
      "No        91116\n",
      "Steady     9274\n",
      "Up          812\n",
      "Down        564\n",
      "Name: glyburide, dtype: int64\n",
      "\n",
      " Feature:tolbutamide \n",
      "No        101743\n",
      "Steady        23\n",
      "Name: tolbutamide, dtype: int64\n",
      "\n",
      " Feature:pioglitazone \n",
      "No        94438\n",
      "Steady     6976\n",
      "Up          234\n",
      "Down        118\n",
      "Name: pioglitazone, dtype: int64\n",
      "\n",
      " Feature:rosiglitazone \n",
      "No        95401\n",
      "Steady     6100\n",
      "Up          178\n",
      "Down         87\n",
      "Name: rosiglitazone, dtype: int64\n",
      "\n",
      " Feature:acarbose \n",
      "No        101458\n",
      "Steady       295\n",
      "Up            10\n",
      "Down           3\n",
      "Name: acarbose, dtype: int64\n",
      "\n",
      " Feature:miglitol \n",
      "No        101728\n",
      "Steady        31\n",
      "Down           5\n",
      "Up             2\n",
      "Name: miglitol, dtype: int64\n",
      "\n",
      " Feature:troglitazone \n",
      "No        101763\n",
      "Steady         3\n",
      "Name: troglitazone, dtype: int64\n",
      "\n",
      " Feature:tolazamide \n",
      "No        101727\n",
      "Steady        38\n",
      "Up             1\n",
      "Name: tolazamide, dtype: int64\n",
      "\n",
      " Feature:examide \n",
      "No    101766\n",
      "Name: examide, dtype: int64\n",
      "\n",
      " Feature:citoglipton \n",
      "No    101766\n",
      "Name: citoglipton, dtype: int64\n",
      "\n",
      " Feature:insulin \n",
      "No        47383\n",
      "Steady    30849\n",
      "Down      12218\n",
      "Up        11316\n",
      "Name: insulin, dtype: int64\n",
      "\n",
      " Feature:glyburide-metformin \n",
      "No        101060\n",
      "Steady       692\n",
      "Up             8\n",
      "Down           6\n",
      "Name: glyburide-metformin, dtype: int64\n",
      "\n",
      " Feature:glipizide-metformin \n",
      "No        101753\n",
      "Steady        13\n",
      "Name: glipizide-metformin, dtype: int64\n",
      "\n",
      " Feature:glimepiride-pioglitazone \n",
      "No        101765\n",
      "Steady         1\n",
      "Name: glimepiride-pioglitazone, dtype: int64\n",
      "\n",
      " Feature:metformin-rosiglitazone \n",
      "No        101764\n",
      "Steady         2\n",
      "Name: metformin-rosiglitazone, dtype: int64\n",
      "\n",
      " Feature:metformin-pioglitazone \n",
      "No        101765\n",
      "Steady         1\n",
      "Name: metformin-pioglitazone, dtype: int64\n",
      "\n",
      " Feature:change \n",
      "No    54755\n",
      "Ch    47011\n",
      "Name: change, dtype: int64\n",
      "\n",
      " Feature:diabetesMed \n",
      "Yes    78363\n",
      "No     23403\n",
      "Name: diabetesMed, dtype: int64\n",
      "\n",
      " Feature:readmitted \n",
      "NO     54864\n",
      ">30    35545\n",
      "<30    11357\n",
      "Name: readmitted, dtype: int64\n"
     ]
    }
   ],
   "source": [
    "for column_name in dataset.select_dtypes(exclude=['int64']).columns:\n",
    "  print('\\n Feature:{0} '.format(column_name))\n",
    "  print(dataset[column_name].value_counts())"
   ]
  },
  {
   "cell_type": "code",
   "execution_count": 5,
   "metadata": {
    "colab": {},
    "colab_type": "code",
    "id": "rCYvty8ESXSv"
   },
   "outputs": [],
   "source": [
    "X = dataset.copy()\n",
    "tbl_feature_importance = []\n",
    "tbl_feature_importance.append(['encounter_id',np.nan,'Rejected','Visit identifier, doest affect output'])\n",
    "tbl_feature_importance.append(['patient_nbr',np.nan,'Rejected','Patient identifier, doest affect output'])\n",
    "tbl_feature_importance.append(['payer_code',np.nan,'Rejected','Insurance company identifier, doest affect output'])\n",
    "X.drop(columns=['encounter_id','patient_nbr','payer_code'],inplace=True)"
   ]
  },
  {
   "cell_type": "code",
   "execution_count": 6,
   "metadata": {},
   "outputs": [],
   "source": [
    "# new code\n",
    "# then drop features that have one and only one value.\n",
    "#for c in X.columns:\n",
    "   # if len(X[c].unique()) == 1:\n",
    "    #    del X[c]\n",
    "    #    print(' Feature ' + c.upper() + ' has one value & deleted from dataset')\n",
    "     #   tbl1_feature_importance.append([c,np.nan,np.nan,'Rejected','Has a single unique value'])"
   ]
  },
  {
   "cell_type": "code",
   "execution_count": 7,
   "metadata": {
    "colab": {},
    "colab_type": "code",
    "id": "T-s9SXl9aYa9"
   },
   "outputs": [],
   "source": [
    "#gender: Remove incorrect value\n",
    "X = X[X['gender'] != 'Unknown/Invalid']\n",
    "tbl_feature_importance.append(['gender',np.nan,'TBD',''])\n",
    "\n",
    "#Age: Transform character text to corresponding average number\n",
    "for i in range(0,10):\n",
    "    X['age'] = X['age'].replace('['+str(10*i)+'-'+str(10*(i+1))+')', np.average([10*i,10*(i+1)]))\n",
    "tbl_feature_importance.append(['age',np.nan,'TBD',''])\n",
    "X= X.astype({'age':'int64'})\n"
   ]
  },
  {
   "cell_type": "code",
   "execution_count": 47,
   "metadata": {
    "colab": {
     "base_uri": "https://localhost:8080/",
     "height": 438
    },
    "colab_type": "code",
    "id": "7TZho_IjaYFi",
    "outputId": "e35a2be5-23a6-4b3a-fdac-2252b56eac0c"
   },
   "outputs": [
    {
     "name": "stdout",
     "output_type": "stream",
     "text": [
      "Caucasian          76099\n",
      "AfricanAmerican    19210\n",
      "Other               4417\n",
      "Hispanic            2037\n",
      "Name: race, dtype: int64\n"
     ]
    },
    {
     "data": {
      "image/png": "[encoded data removed]",
      "text/plain": [
       "<Figure size 432x288 with 1 Axes>"
      ]
     },
     "metadata": {
      "needs_background": "light"
     },
     "output_type": "display_data"
    }
   ],
   "source": [
    "\n",
    "#replace incorrect values to be missing \n",
    "X[\"race\"].replace('?',np.nan,inplace=True)\n",
    "#fill missing values with value 'other' \n",
    "X['race'].fillna('Other',inplace=True)\n",
    "\n",
    "# new code\n",
    "encoding_feature = []\n",
    "X['race'] = ['Other' if x not in ('Caucasian','AfricanAmerican','Hispanic') else x for x in X['race']]\n",
    "print(X['race'].value_counts())\n",
    "encoding_feature.append('race')\n",
    "\n",
    "#plot race distribution after transforming \n",
    "sns.countplot(x='race',data=X,hue='readmitted',palette=sns.xkcd_palette([\"red\",\"deep teal\", \"twilight blue\"])).set_title('Distribution of Race vs Re-admitted')\n",
    "plt.gcf().autofmt_xdate()\n",
    "plt.show()\n",
    "tbl_feature_importance.append(['race',np.nan,'TBD',''])\n"
   ]
  },
  {
   "cell_type": "code",
   "execution_count": 26,
   "metadata": {
    "colab": {
     "base_uri": "https://localhost:8080/",
     "height": 387
    },
    "colab_type": "code",
    "id": "alrWDP81ccqQ",
    "outputId": "bc5f0d66-6533-45a5-fb4c-c946ead06503"
   },
   "outputs": [
    {
     "name": "stdout",
     "output_type": "stream",
     "text": [
      "Undefined    84745\n",
      "8+            8216\n",
      "Norm          4990\n",
      "7+            3812\n",
      "Name: A1Cresult, dtype: int64\n"
     ]
    },
    {
     "data": {
      "image/png": "[encoded data removed]",
      "text/plain": [
       "<Figure size 432x288 with 1 Axes>"
      ]
     },
     "metadata": {
      "needs_background": "light"
     },
     "output_type": "display_data"
    }
   ],
   "source": [
    "X[\"A1Cresult\"].replace(\"None\",'Undefined',inplace=True)\n",
    "X[\"A1Cresult\"].replace('>8','8+',inplace=True)\n",
    "X[\"A1Cresult\"].replace('>7','7+',inplace=True)\n",
    "print(X['A1Cresult'].value_counts())\n",
    "#plot race distribution after transforming \n",
    "sns.countplot(x='A1Cresult',data=X,hue='readmitted').set_title('Distribution of A1Cresult vs Re-admitted')\n",
    "plt.gcf().autofmt_xdate()\n",
    "plt.show()\n",
    "tbl_feature_importance.append(['A1Cresult',np.nan,'TBD',''])"
   ]
  },
  {
   "cell_type": "code",
   "execution_count": 10,
   "metadata": {},
   "outputs": [
    {
     "name": "stdout",
     "output_type": "stream",
     "text": [
      "428      6862\n",
      "414      6580\n",
      "786      4016\n",
      "410      3614\n",
      "486      3508\n",
      "427      2766\n",
      "491      2275\n",
      "715      2151\n",
      "682      2042\n",
      "434      2028\n",
      "780      2019\n",
      "996      1967\n",
      "276      1889\n",
      "38       1688\n",
      "250.8    1680\n",
      "599      1595\n",
      "584      1520\n",
      "V57      1207\n",
      "250.6    1183\n",
      "518      1115\n",
      "Name: diag_1, dtype: int64\n",
      "276       6752\n",
      "428       6662\n",
      "250       6071\n",
      "427       5036\n",
      "401       3736\n",
      "496       3305\n",
      "599       3288\n",
      "403       2823\n",
      "414       2650\n",
      "411       2565\n",
      "250.02    2074\n",
      "707       1999\n",
      "585       1871\n",
      "584       1649\n",
      "491       1545\n",
      "250.01    1523\n",
      "285       1520\n",
      "780       1491\n",
      "425       1434\n",
      "682       1433\n",
      "Name: diag_2, dtype: int64\n",
      "250       11555\n",
      "401        8288\n",
      "276        5175\n",
      "428        4577\n",
      "427        3955\n",
      "414        3664\n",
      "496        2605\n",
      "403        2357\n",
      "585        1992\n",
      "272        1969\n",
      "599        1941\n",
      "?          1423\n",
      "V45        1389\n",
      "250.02     1369\n",
      "707        1360\n",
      "780        1334\n",
      "285        1200\n",
      "425        1136\n",
      "250.6      1080\n",
      "424        1063\n",
      "Name: diag_3, dtype: int64\n"
     ]
    }
   ],
   "source": [
    "for col in ['diag_1','diag_2','diag_3']:\n",
    "    print(X[col].value_counts()[:20])"
   ]
  },
  {
   "cell_type": "code",
   "execution_count": 11,
   "metadata": {
    "colab": {},
    "colab_type": "code",
    "id": "uAVj_VLniCgn"
   },
   "outputs": [],
   "source": [
    "#as feature 'max_glu_serum' has 95% missing values, we will drop it, also weight\n",
    "X.drop(columns=['max_glu_serum','weight'],inplace=True)\n",
    "tbl_feature_importance.append(['max_glu_serum',np.nan,'Rejected','95% missing values'])\n",
    "tbl_feature_importance.append(['weight',np.nan,'Rejected','97% missing values'])\n",
    "\n",
    "#as feature examide and citoglipton have only one value , we will drop them\n",
    "X.drop(columns=['examide','citoglipton'],inplace=True)\n",
    "tbl_feature_importance.append(['examide',np.nan,'Rejected','One value, doesnt affect output'])\n",
    "tbl_feature_importance.append(['citoglipton',np.nan,'Rejected','One value, doesnt affect output'])"
   ]
  },
  {
   "cell_type": "code",
   "execution_count": 12,
   "metadata": {
    "colab": {
     "base_uri": "https://localhost:8080/",
     "height": 331
    },
    "colab_type": "code",
    "id": "x9Uv-0qIaYm0",
    "outputId": "e5ee999b-6afe-4a04-9719-0a628dc33720"
   },
   "outputs": [
    {
     "name": "stdout",
     "output_type": "stream",
     "text": [
      "Other                     63673\n",
      "InternalMedicine          14635\n",
      "Emergency/Trauma           7565\n",
      "Family/GeneralPractice     7440\n",
      "Cardiology                 5351\n",
      "Surgery-General            3099\n",
      "Name: medical_specialty, dtype: int64\n"
     ]
    },
    {
     "data": {
      "image/png": "[encoded data removed]",
      "text/plain": [
       "<Figure size 432x288 with 1 Axes>"
      ]
     },
     "metadata": {
      "needs_background": "light"
     },
     "output_type": "display_data"
    }
   ],
   "source": [
    "#check distinct values for feature 'medical_specialty'\n",
    "X['medical_specialty'].value_counts()\n",
    "#merge all low frequency values to be one value 'Other' \n",
    "X['medical_specialty'] = ['Other' if x not in ('InternalMedicine','Emergency/Trauma','Family/GeneralPractice','Cardiology','Surgery-General') else x for x in X['medical_specialty']]\n",
    "print(X['medical_specialty'].value_counts())\n",
    "sns.countplot(x='medical_specialty',data=X,hue='readmitted').set_title('Distribution of Medical_specialty vs Re-admitted')\n",
    "plt.gcf().autofmt_xdate()\n",
    "plt.show()\n",
    "tbl_feature_importance.append(['medical_specialty',np.nan,'TBD',''])"
   ]
  },
  {
   "cell_type": "code",
   "execution_count": 13,
   "metadata": {
    "colab": {
     "base_uri": "https://localhost:8080/",
     "height": 237
    },
    "colab_type": "code",
    "id": "6Ya6Mj6KKbur",
    "outputId": "802f17ea-13f8-4d89-b055-89cc3781060c"
   },
   "outputs": [
    {
     "data": {
      "text/html": [
       "<div>\n",
       "<style scoped>\n",
       "    .dataframe tbody tr th:only-of-type {\n",
       "        vertical-align: middle;\n",
       "    }\n",
       "\n",
       "    .dataframe tbody tr th {\n",
       "        vertical-align: top;\n",
       "    }\n",
       "\n",
       "    .dataframe thead th {\n",
       "        text-align: right;\n",
       "    }\n",
       "</style>\n",
       "<table border=\"1\" class=\"dataframe\">\n",
       "  <thead>\n",
       "    <tr style=\"text-align: right;\">\n",
       "      <th></th>\n",
       "      <th>race</th>\n",
       "      <th>gender</th>\n",
       "      <th>age</th>\n",
       "      <th>admission_type_id</th>\n",
       "      <th>discharge_disposition_id</th>\n",
       "      <th>admission_source_id</th>\n",
       "      <th>time_in_hospital</th>\n",
       "      <th>medical_specialty</th>\n",
       "      <th>num_lab_procedures</th>\n",
       "      <th>num_procedures</th>\n",
       "      <th>...</th>\n",
       "      <th>tolazamide</th>\n",
       "      <th>insulin</th>\n",
       "      <th>glyburide-metformin</th>\n",
       "      <th>glipizide-metformin</th>\n",
       "      <th>glimepiride-pioglitazone</th>\n",
       "      <th>metformin-rosiglitazone</th>\n",
       "      <th>metformin-pioglitazone</th>\n",
       "      <th>change</th>\n",
       "      <th>diabetesMed</th>\n",
       "      <th>readmitted</th>\n",
       "    </tr>\n",
       "  </thead>\n",
       "  <tbody>\n",
       "    <tr>\n",
       "      <th>0</th>\n",
       "      <td>Caucasian</td>\n",
       "      <td>Female</td>\n",
       "      <td>5</td>\n",
       "      <td>6</td>\n",
       "      <td>25</td>\n",
       "      <td>1</td>\n",
       "      <td>1</td>\n",
       "      <td>Other</td>\n",
       "      <td>41</td>\n",
       "      <td>0</td>\n",
       "      <td>...</td>\n",
       "      <td>No</td>\n",
       "      <td>No</td>\n",
       "      <td>No</td>\n",
       "      <td>No</td>\n",
       "      <td>No</td>\n",
       "      <td>No</td>\n",
       "      <td>No</td>\n",
       "      <td>No</td>\n",
       "      <td>No</td>\n",
       "      <td>&gt;30</td>\n",
       "    </tr>\n",
       "    <tr>\n",
       "      <th>1</th>\n",
       "      <td>Caucasian</td>\n",
       "      <td>Female</td>\n",
       "      <td>15</td>\n",
       "      <td>1</td>\n",
       "      <td>1</td>\n",
       "      <td>7</td>\n",
       "      <td>3</td>\n",
       "      <td>Other</td>\n",
       "      <td>59</td>\n",
       "      <td>0</td>\n",
       "      <td>...</td>\n",
       "      <td>No</td>\n",
       "      <td>Up</td>\n",
       "      <td>No</td>\n",
       "      <td>No</td>\n",
       "      <td>No</td>\n",
       "      <td>No</td>\n",
       "      <td>No</td>\n",
       "      <td>Ch</td>\n",
       "      <td>Yes</td>\n",
       "      <td>&gt;30</td>\n",
       "    </tr>\n",
       "    <tr>\n",
       "      <th>2</th>\n",
       "      <td>AfricanAmerican</td>\n",
       "      <td>Female</td>\n",
       "      <td>25</td>\n",
       "      <td>1</td>\n",
       "      <td>1</td>\n",
       "      <td>7</td>\n",
       "      <td>2</td>\n",
       "      <td>Other</td>\n",
       "      <td>11</td>\n",
       "      <td>5</td>\n",
       "      <td>...</td>\n",
       "      <td>No</td>\n",
       "      <td>No</td>\n",
       "      <td>No</td>\n",
       "      <td>No</td>\n",
       "      <td>No</td>\n",
       "      <td>No</td>\n",
       "      <td>No</td>\n",
       "      <td>No</td>\n",
       "      <td>Yes</td>\n",
       "      <td>&gt;30</td>\n",
       "    </tr>\n",
       "    <tr>\n",
       "      <th>3</th>\n",
       "      <td>Caucasian</td>\n",
       "      <td>Male</td>\n",
       "      <td>35</td>\n",
       "      <td>1</td>\n",
       "      <td>1</td>\n",
       "      <td>7</td>\n",
       "      <td>2</td>\n",
       "      <td>Other</td>\n",
       "      <td>44</td>\n",
       "      <td>1</td>\n",
       "      <td>...</td>\n",
       "      <td>No</td>\n",
       "      <td>Up</td>\n",
       "      <td>No</td>\n",
       "      <td>No</td>\n",
       "      <td>No</td>\n",
       "      <td>No</td>\n",
       "      <td>No</td>\n",
       "      <td>Ch</td>\n",
       "      <td>Yes</td>\n",
       "      <td>&gt;30</td>\n",
       "    </tr>\n",
       "    <tr>\n",
       "      <th>4</th>\n",
       "      <td>Caucasian</td>\n",
       "      <td>Male</td>\n",
       "      <td>45</td>\n",
       "      <td>1</td>\n",
       "      <td>1</td>\n",
       "      <td>7</td>\n",
       "      <td>1</td>\n",
       "      <td>Other</td>\n",
       "      <td>51</td>\n",
       "      <td>0</td>\n",
       "      <td>...</td>\n",
       "      <td>No</td>\n",
       "      <td>Steady</td>\n",
       "      <td>No</td>\n",
       "      <td>No</td>\n",
       "      <td>No</td>\n",
       "      <td>No</td>\n",
       "      <td>No</td>\n",
       "      <td>Ch</td>\n",
       "      <td>Yes</td>\n",
       "      <td>&gt;30</td>\n",
       "    </tr>\n",
       "  </tbody>\n",
       "</table>\n",
       "<p>5 rows × 43 columns</p>\n",
       "</div>"
      ],
      "text/plain": [
       "              race  gender  age  admission_type_id  discharge_disposition_id  \\\n",
       "0        Caucasian  Female    5                  6                        25   \n",
       "1        Caucasian  Female   15                  1                         1   \n",
       "2  AfricanAmerican  Female   25                  1                         1   \n",
       "3        Caucasian    Male   35                  1                         1   \n",
       "4        Caucasian    Male   45                  1                         1   \n",
       "\n",
       "   admission_source_id  time_in_hospital medical_specialty  \\\n",
       "0                    1                 1             Other   \n",
       "1                    7                 3             Other   \n",
       "2                    7                 2             Other   \n",
       "3                    7                 2             Other   \n",
       "4                    7                 1             Other   \n",
       "\n",
       "   num_lab_procedures  num_procedures  ...  tolazamide  insulin  \\\n",
       "0                  41               0  ...          No       No   \n",
       "1                  59               0  ...          No       Up   \n",
       "2                  11               5  ...          No       No   \n",
       "3                  44               1  ...          No       Up   \n",
       "4                  51               0  ...          No   Steady   \n",
       "\n",
       "   glyburide-metformin  glipizide-metformin glimepiride-pioglitazone  \\\n",
       "0                   No                   No                       No   \n",
       "1                   No                   No                       No   \n",
       "2                   No                   No                       No   \n",
       "3                   No                   No                       No   \n",
       "4                   No                   No                       No   \n",
       "\n",
       "  metformin-rosiglitazone metformin-pioglitazone  change diabetesMed  \\\n",
       "0                      No                     No      No          No   \n",
       "1                      No                     No      Ch         Yes   \n",
       "2                      No                     No      No         Yes   \n",
       "3                      No                     No      Ch         Yes   \n",
       "4                      No                     No      Ch         Yes   \n",
       "\n",
       "  readmitted  \n",
       "0        >30  \n",
       "1        >30  \n",
       "2        >30  \n",
       "3        >30  \n",
       "4        >30  \n",
       "\n",
       "[5 rows x 43 columns]"
      ]
     },
     "execution_count": 13,
     "metadata": {},
     "output_type": "execute_result"
    }
   ],
   "source": [
    "X[\"readmitted\"].replace('NO','>30',inplace=True)\n",
    "X.head(5)"
   ]
  },
  {
   "cell_type": "code",
   "execution_count": 14,
   "metadata": {
    "colab": {
     "base_uri": "https://localhost:8080/",
     "height": 1000
    },
    "colab_type": "code",
    "id": "RTNtFUDmSXSx",
    "outputId": "c1ae5acc-7752-468e-d569-851e0c3a096d"
   },
   "outputs": [
    {
     "name": "stdout",
     "output_type": "stream",
     "text": [
      "% of missing race = 0.0  , values = ['Caucasian' 'AfricanAmerican' 'Other' 'Hispanic']\n",
      "% of missing gender = 0.0  , values = ['Female' 'Male']\n",
      "% of missing medical_specialty = 0.0  , values = ['Other' 'InternalMedicine' 'Family/GeneralPractice' 'Cardiology'\n",
      " 'Surgery-General' 'Emergency/Trauma']\n",
      "% of missing diag_1 = 0.0  , values = ['250.83' '276' '648' '8' '197' '414' '428' '398' '434' '250.7' '157'\n",
      " '518' '999' '410' '682' '402' '737' '572' 'V57' '189' '786' '427' '996'\n",
      " '277' '584' '462' '473' '411' '174' '486' '998' '511' '432' '626' '295'\n",
      " '196' '250.6' '618' '182' '845' '423' '808' '250.4' '722' '403' '250.11'\n",
      " '784' '707' '440' '151' '715' '997' '198' '564' '812' '38' '590' '556'\n",
      " '578' '250.32' '433' 'V58' '569' '185' '536' '255' '250.13' '599' '558'\n",
      " '574' '491' '560' '244' '250.03' '577' '730' '188' '824' '250.8' '332'\n",
      " '562' '291' '296' '510' '401' '263' '438' '70' '250.02' '493' '642' '625'\n",
      " '571' '738' '593' '250.42' '807' '456' '446' '575' '250.41' '820' '515'\n",
      " '780' '250.22' '995' '235' '250.82' '721' '787' '162' '724' '282' '514'\n",
      " 'V55' '281' '250.33' '530' '466' '435' '250.12' 'V53' '789' '566' '822'\n",
      " '191' '557' '733' '455' '711' '482' '202' '280' '553' '225' '154' '441'\n",
      " '250.81' '349' '?' '962' '592' '507' '386' '156' '200' '728' '348' '459'\n",
      " '426' '388' '607' '337' '82' '531' '596' '288' '656' '573' '492' '220'\n",
      " '516' '210' '922' '286' '885' '958' '661' '969' '250.93' '227' '112'\n",
      " '404' '823' '532' '416' '346' '535' '453' '250' '595' '211' '303'\n",
      " '250.01' '852' '218' '782' '540' '457' '285' '431' '340' '550' '54' '351'\n",
      " '601' '723' '555' '153' '443' '380' '204' '424' '241' '358' '694' '331'\n",
      " '345' '681' '447' '290' '158' '579' '436' '335' '309' '654' '805' '799'\n",
      " '292' '183' '78' '851' '458' '586' '311' '892' '305' '293' '415' '591'\n",
      " '794' '803' '79' '655' '429' '278' '658' '598' '729' '585' '444' '604'\n",
      " '727' '214' '552' '284' '680' '708' '41' '644' '481' '821' '413' '437'\n",
      " '968' '756' '632' '359' '275' '512' '781' '420' '368' '522' '294' '825'\n",
      " '135' '304' '320' '250.31' '669' '868' '496' '250.43' '826' '567' '3'\n",
      " '203' '53' '251' '565' '161' '495' '49' '250.1' '297' '663' '576' '355'\n",
      " '850' '287' '250.2' '611' '840' '350' '726' '537' '620' '180' '366' '783'\n",
      " '11' '751' '716' '250.3' '199' '464' '580' '836' '664' '283' '813' '966'\n",
      " '289' '965' '184' '480' '608' '333' '972' '212' '117' '788' '924' '959'\n",
      " '621' '238' '785' '714' '942' '250.23' '710' '47' '933' '508' '478' '844'\n",
      " '7' '736' '233' '42' '250.5' '397' '395' '201' '421' '253' '250.92' '600'\n",
      " '494' '977' '39' '659' '312' '614' '647' '652' '646' '274' '861' '425'\n",
      " '527' '451' '485' '217' '250.53' '442' '970' '193' '160' '322' '581'\n",
      " '475' '623' '374' '582' '568' '465' '801' '237' '376' '150' '461' '913'\n",
      " '226' '617' '987' '641' '298' '790' '336' '362' '228' '513' '383' '746'\n",
      " '353' '911' '506' '873' '155' '860' '534' '802' '141' 'V45' '396' '310'\n",
      " '341' '242' '719' '239' '533' '616' '519' '301' 'V66' '5' '989' '230'\n",
      " '385' '300' '853' '871' '570' '848' '463' '9' '934' '250.21' '236' '361'\n",
      " '594' '501' '810' '643' '430' '528' '205' '791' '983' '992' '490' '172'\n",
      " '171' '622' '306' '863' '864' '474' '660' '759' '356' '634' '967' '551'\n",
      " '695' '187' '732' '747' '323' '308' '370' '252' '152' '846' '164' '365'\n",
      " '718' '48' '266' '720' '94' '344' '797' '170' '878' '904' 'V56' '882'\n",
      " '843' '709' '973' '454' '686' '939' '487' '229' '991' '483' '357' '692'\n",
      " '796' '693' '935' '936' '800' '920' 'V26' '261' '307' '262' '250.9' '831'\n",
      " '145' '223' 'V71' '839' '685' 'V54' '35' '34' '179' '964' '136' '324'\n",
      " '389' '815' '334' '143' '526' '588' '192' 'V67' '394' '917' '88' '219'\n",
      " '325' '792' '717' '994' '990' '793' '207' '637' '195' '373' '847' '827'\n",
      " '31' '891' '814' 'V60' '703' '865' '352' '627' '378' '342' '886' '369'\n",
      " '745' '705' '816' '541' '986' '610' '633' '640' '753' '173' '835' '379'\n",
      " '445' '272' '382' '945' '619' '881' '250.52' '866' '405' '916' '215'\n",
      " '893' '75' '671' '928' '906' '897' '725' '867' '115' '890' '734' '521'\n",
      " '674' '470' '834' '146' '696' '524' '980' '691' '384' '142' '879'\n",
      " '250.51' '246' '208' '448' '955' '653' '149' '245' '735' '883' '854'\n",
      " '952' '838' '194' 'V43' '163' '216' '147' '354' '27' '477' '318' '880'\n",
      " '921' '377' '471' '683' '175' '602' '250.91' '982' '706' '375' '417'\n",
      " '131' '347' '870' '148' '862' '61' '817' '914' '360' '684' '314' 'V63'\n",
      " '36' '57' '240' '915' '971' '795' '988' '452' '963' '327' '731' '842'\n",
      " 'V25' '645' '665' '110' '944' '603' '923' '412' '363' '957' '976' '698'\n",
      " '299' '700' '273' '974' '97' '529' '66' '98' '605' '941' '52' '806' '84'\n",
      " '271' '837' '657' '895' '338' '523' '542' '114' '543' '372' 'V70' 'E909'\n",
      " '583' 'V07' '422' '615' '279' '500' '903' '919' '875' '381' '804' '704'\n",
      " '23' '58' '649' '832' '133' '975' '833' '391' '690' '10' 'V51']\n",
      "% of missing diag_2 = 0.0  , values = ['?' '250.01' '250' '250.43' '157' '411' '492' '427' '198' '403' '288'\n",
      " '998' '507' '174' '425' '456' '401' '715' '496' '428' '585' '250.02'\n",
      " '410' '999' '996' '135' '244' '41' '571' '276' '997' '599' '424' '491'\n",
      " '553' '707' '286' '440' '493' '242' '70' 'V45' '250.03' '357' '511' '196'\n",
      " '396' '197' '414' '250.52' '577' '535' '413' '285' '53' '780' '518' '150'\n",
      " '566' '250.6' '867' '486' 'V15' '8' '788' '340' '574' '581' '228' '530'\n",
      " '250.82' '786' '294' '567' '785' '512' '305' '729' '250.51' '280' '648'\n",
      " '560' '618' '444' '38' 'V10' '578' '277' '781' '250.42' '278' '426' '584'\n",
      " '462' '402' '153' '272' '733' '34' '881' '203' '250.41' '250.13' '293'\n",
      " '245' '250.12' '558' '787' '342' '573' '626' '303' '250.53' '458' '710'\n",
      " '415' 'V42' '284' '569' '759' '682' '112' '292' '435' '290' '250.93'\n",
      " '642' '536' '398' '319' '711' 'E878' '446' '255' 'V44' '250.7' '784'\n",
      " '300' '562' '162' '287' '447' '789' '790' '591' '200' '154' '304' '117'\n",
      " '847' '852' '250.83' '250.11' '816' '575' '416' '412' '441' '515' '372'\n",
      " '482' '382' 'V65' '572' '283' '78' '250.81' '576' '432' '595' '295' 'V12'\n",
      " '204' '466' '721' '434' '590' '271' '813' '368' '227' '783' '250.5' '258'\n",
      " '253' '309' '250.91' '519' '333' '459' '250.92' '250.4' '179' '420' '345'\n",
      " '433' '661' '537' '205' '722' '405' '437' '714' '211' 'E812' '263' '202'\n",
      " '397' '250.23' 'E932' '201' '301' '723' '614' '568' '861' 'V57' '724'\n",
      " '189' '297' '453' 'E888' '730' '354' '451' '738' 'E939' '805' 'V43' '155'\n",
      " '910' '218' '358' '220' 'E937' '583' '958' '794' '564' '436' '250.22'\n",
      " '620' '621' '331' '617' '596' '314' '378' '250.8' '625' '478' '731' '172'\n",
      " '404' '681' '470' '279' '281' '531' '443' '799' '337' '311' '719' 'E944'\n",
      " '423' 'E870' '465' 'E849' '782' '481' '480' 'V23' '199' '79' '438' '348'\n",
      " '42' 'E950' '473' '627' '726' '54' '490' '317' '332' '508' '369' '600'\n",
      " '349' '485' '208' '922' '431' '296' 'E934' '753' 'E935' '386' '728' '607'\n",
      " 'E915' '344' '716' '289' '191' '873' '850' '611' '377' '352' '616' 'V17'\n",
      " '136' '455' '933' 'E885' '860' '513' '603' '484' '223' 'V72' '291' '151'\n",
      " 'V58' '550' '510' '891' '185' '592' '791' '138' '598' '336' '362' '217'\n",
      " '825' '298' '821' 'E880' '343' '429' 'E879' '579' '225' '250.9' 'V49'\n",
      " '696' '233' '658' '969' '275' '250.1' '601' '704' '808' 'E890' 'V18'\n",
      " '920' '380' '570' 'E817' '359' '812' '274' 'V14' '324' '758' 'V66' '911'\n",
      " 'E931' 'E924' '593' '792' '727' 'V46' '394' '532' 'V64' '557' '864' '718'\n",
      " 'E942' '807' '604' '924' '820' '580' '273' '241' '282' '824' 'V61' '646'\n",
      " '701' '736' '565' '383' '250.2' 'E947' '452' '872' '905' 'E930' '921'\n",
      " '131' '448' '389' '421' '214' '705' '494' '752' '623' '9' '299' '959'\n",
      " '365' '967' 'E858' '40' '691' '909' '5' '814' '746' '250.31' '556' '680'\n",
      " '745' '351' '306' '110' '695' '552' '346' '918' '882' '947' '520' '188'\n",
      " '31' '356' '737' 'V08' '322' '182' '517' '974' 'E929' 'V53' '912' '252'\n",
      " '608' '516' 'E933' '94' '702' '923' '594' '647' '111' '934' '430' '487'\n",
      " '709' '796' '156' '977' '915' '756' '840' '341' '259' '693' '725' 'V62'\n",
      " '528' '683' '953' '457' '501' 'E900' 'V09' '522' '919' '461' '506' '193'\n",
      " '483' 'E936' '717' '802' '335' 'V54' '320' '945' '906' '239' '454' '826'\n",
      " '823' 'E941' '226' '795' '684' '844' '250.33' '308' '615' '588' '712'\n",
      " '663' '706' '833' '741' '713' '533' 'E884' '586' '555' '755' 'E928' '742'\n",
      " '869' '962' 'V11' '543' '373' '870' '913' '152' '810' '965' '907' '908'\n",
      " '995' '845' '474' '442' '751' '323' '472' '464' '686' '250.32' '540'\n",
      " '251' '811' '652' '659' '851' '422' '815' '307' '325' '463' '992' '692'\n",
      " '521' '917' 'E965' '524' '916' 'E813' '173' '238' '137' '514' '312' '837'\n",
      " '355' '980' '622' '475' '500' '754' '261' '801' '868' '968' '381' '11'\n",
      " '250.21' '694' '610' '734' 'E814' '310' '130' '246' '892' '846' '634'\n",
      " '75' 'E927' 'E905' '183' '379' 'E917' '163' 'E868' '495' '747' '989'\n",
      " 'E854' '240' '832' '605' '602' '644' 'V16' '35' 'V70' '376' '266' 'E918'\n",
      " '619' '477' '656' '46' '883' '171' 'V13' '698' '842' 'E850' '800' '269'\n",
      " '664' 'E887' '952' '164' 'E881' '527' '685' '366' '836' '27' 'V63' '865'\n",
      " '793' '232' '990' '52' '831' '327' '542' '806' '972' '862' 'E829' 'E919'\n",
      " '944' 'E916' '963' '316' '645' '347' 'V85' '374' 'V02' '748' '256' '186'\n",
      " '866' '975' '96' '395' '262' 'E819' '654' '994' '318' 'E826' '879' '674'\n",
      " '641' '822' '145' '797' '353' 'E938' 'E816' '948' '987' '99' '192'\n",
      " '250.3' 'E906' '534' '115' 'E818' 'E980' '360' '338' '529' '871' '750'\n",
      " '212' '302' '955' '141' '88' 'V25' '215' '350' 'V50' 'V03' 'E853' 'E968'\n",
      " 'E882' '140' '703' '991' '893' 'E821' '235' 'V69' '670' '195' 'V55' '388'\n",
      " '268' '894' '114' '260' '853' '7' '880' 'V86' '180' 'E945' '523' '863'\n",
      " '649' '270' '665' '460' '942' '364' '66' 'E883' '123' '884' 'V60' '843'\n",
      " '927']\n",
      "% of missing diag_3 = 0.0  , values = ['?' '255' 'V27' '403' '250' 'V45' '38' '486' '996' '197' '250.6' '427'\n",
      " '627' '414' '416' '714' '428' '582' 'V43' '250.01' '263' '250.42' '276'\n",
      " '482' '401' '250.41' '585' '781' '278' '998' '568' '682' '618' '250.02'\n",
      " '305' '707' '496' '599' '715' '424' '518' '553' '794' '411' 'V42' '531'\n",
      " '511' '490' '562' '250.8' '250.7' '250.52' '784' '491' '581' '420' '8'\n",
      " '724' '730' '789' '131' '250.82' '999' '41' '493' '250.03' '753' '786'\n",
      " '529' 'E888' '425' '595' '303' '560' '711' '492' '332' '296' '438' '362'\n",
      " '250.4' '654' '244' 'V70' '737' '625' '681' '250.51' '404' 'V10' '810'\n",
      " '280' '440' '785' '588' '569' '272' '997' '250.43' '918' '584' '54' '788'\n",
      " '426' '722' '250.92' '196' '461' '535' '787' '891' '284' '458' '648'\n",
      " '780' '182' '285' '593' '413' '664' '564' '201' '356' 'V15' '292' '782'\n",
      " '473' '455' 'E932' '357' '348' '294' '250.23' '459' 'E878' '437' '733'\n",
      " '507' '525' '250.53' '397' '572' '805' '453' '331' '736' '402' '591'\n",
      " '576' '465' '533' '703' '349' '315' '658' '608' '578' '716' '382' '300'\n",
      " '282' '571' '536' '596' '287' '644' 'V11' '558' 'E885' '162' '198' '218'\n",
      " '412' '396' 'V14' '570' '433' 'E934' '882' '288' '577' '443' '729' '836'\n",
      " '295' '799' '281' '304' '153' '410' '616' '250.83' '601' '291' '75' '512'\n",
      " '660' '250.5' '598' '337' '574' '653' 'V58' '311' '415' '386' '602' '790'\n",
      " '112' '873' '620' '436' '70' '155' '138' '663' '530' '710' '42' '342'\n",
      " '250.91' 'E884' '515' '307' '704' '728' '731' '583' '238' '441' '293'\n",
      " '573' '532' '290' '594' '319' '250.13' '250.12' '519' '346' '380' '135'\n",
      " '642' '698' '924' '905' 'E933' '555' '309' 'E879' '286' '565' '752' '580'\n",
      " '446' '444' '344' '252' '35' '813' '394' '301' '575' '258' 'V17' '802'\n",
      " '435' '746' 'V12' '709' '881' 'E935' '139' '250.81' '718' '365' '202'\n",
      " '334' '185' '398' 'V44' '517' 'E849' '614' '466' '626' '250.9' '368'\n",
      " '605' '883' '289' '478' '617' '429' '442' 'V25' '866' '610' '557' '959'\n",
      " 'E942' '94' '920' '345' '313' '379' '79' '516' '586' '821' '600' '242'\n",
      " '373' '592' 'V64' '487' '253' '706' 'E947' '117' '340' 'E950' '656'\n",
      " 'E949' '590' 'V09' '250.22' '934' '694' '203' '250.93' '995' '726' '923'\n",
      " '958' '275' 'E929' '211' 'V18' 'V66' '199' '665' '53' '279' '522' '791'\n",
      " '890' '456' 'E938' 'E816' '122' '721' 'V65' '136' '480' '423' 'E920'\n",
      " '793' '647' '537' '351' '845' '336' '274' '719' '945' '434' '494' '227'\n",
      " '157' '208' '174' 'V57' '812' '734' '150' 'V23' '447' '692' '228' 'V16'\n",
      " '756' '405' 'E928' '823' '552' '528' '389' '240' '454' '792' '366' 'E939'\n",
      " '907' '270' '310' '266' '387' 'E931' '783' '245' '607' '355' 'E930' '705'\n",
      " '372' '369' '611' '283' 'V46' '110' '867' 'E956' '251' '250.2' '820'\n",
      " '712' '695' '567' '343' '723' 'V08' '273' '623' '807' '451' '495' '701'\n",
      " '34' 'V53' '314' '472' 'E945' '11' '189' '534' '354' '333' 'V54' '277'\n",
      " '659' '708' '452' '655' '816' '670' '621' '246' '953' '865' 'E817' '646'\n",
      " '151' '378' '78' '298' '840' '641' '521' '745' '619' '912' '506' 'E904'\n",
      " '259' 'E870' 'E980' '383' '204' '696' '566' '727' '47' 'E943' '358' '191'\n",
      " '965' '921' '432' '27' 'E861' '758' '477' '524' '751' '652' '556' '188'\n",
      " '825' '919' '732' '908' '951' '962' '685' 'E850' 'E944' '527' '341' '693'\n",
      " '250.1' 'V49' '860' '323' 'V55' '579' '508' '969' '205' '462' 'E880'\n",
      " '680' '697' '826' '200' '457' '717' '738' '742' '735' '235' '308' '725'\n",
      " '241' '824' '464' '260' '917' '239' '661' '892' '261' 'E883' '943' '744'\n",
      " 'E936' '796' '318' '967' '350' '854' 'E905' '9' '741' 'E941' '170' '643'\n",
      " '317' '759' '909' 'V22' '831' '713' '180' '801' '360' '359' '501' '335'\n",
      " '250.11' '306' '811' '690' 'V02' '271' '214' '847' '543' 'V63' '906'\n",
      " '842' '686' '445' '808' '861' 'E852' '220' 'E887' 'E858' '915' '970'\n",
      " '256' '747' '395' '243' '815' '481' '5' 'E927' '297' '299' '851' '864'\n",
      " '922' '384' 'E876' '225' '158' 'E937' '871' '88' '966' 'E917' 'E812'\n",
      " 'V62' 'E924' '604' '233' 'E916' '377' '797' 'V72' '172' '7' '421' '852'\n",
      " 'E819' '972' '916' '956' '3' 'E965' '173' '193' '154' '347' '862' '250.3'\n",
      " '987' '470' '262' 'E855' '161' '115' '179' '910' '312' '17' '460' '265'\n",
      " '66' '163' 'V60' '870' 'E906' '514' '944' '844' '417' '152' '183' '991'\n",
      " '216' '385' '164' '935' '510' '814' '485' '850' '250.21' 'E919' '872'\n",
      " '195' '431' '597' '933' '171' '884' '156' '868' '483' 'E815' '542' 'V61'\n",
      " '853' '374' 'E881' 'E882' 'E822' '192' '754' '327' '523' '500' 'V85'\n",
      " '992' '657' '684' '603' 'E826' '550' '913' '376' '755' '361' '186' '720'\n",
      " '250.31' '674' '911' 'E813' '226' '365.44' 'E818' '146' '955' 'E894'\n",
      " '475' 'V13' '880' '930' 'E915' '381' '132' '353' '795' '893' 'V01' 'E853'\n",
      " '863' '540' 'E828' '430' '800' 'E865' '148' 'E946' '822' '879' '848'\n",
      " 'V86' 'V03' '338' '989' '388' 'E966' '111' 'E922' '123' '757' 'E901'\n",
      " '141' '268' 'E892' '649' '702' '948' '223' '484' 'E886' '838' '928' '236'\n",
      " '624' '837' 'E987' 'V07' '841' '622' 'E912' 'E955' '463' 'V06' 'E864'\n",
      " '217' '877' '391' 'E825' '952' '669' '875' 'E900' '215' '538' '980' '834'\n",
      " '448' '175' '49' '876' '230' '57' 'E854' '942' '14' '750' '370' '671'\n",
      " '971']\n",
      "% of missing A1Cresult = 0.0  , values = ['Undefined' '7+' '8+' 'Norm']\n",
      "% of missing metformin = 0.0  , values = ['No' 'Steady' 'Up' 'Down']\n",
      "% of missing repaglinide = 0.0  , values = ['No' 'Up' 'Steady' 'Down']\n",
      "% of missing nateglinide = 0.0  , values = ['No' 'Steady' 'Down' 'Up']\n",
      "% of missing chlorpropamide = 0.0  , values = ['No' 'Steady' 'Down' 'Up']\n",
      "% of missing glimepiride = 0.0  , values = ['No' 'Steady' 'Down' 'Up']\n",
      "% of missing acetohexamide = 0.0  , values = ['No' 'Steady']\n",
      "% of missing glipizide = 0.0  , values = ['No' 'Steady' 'Up' 'Down']\n",
      "% of missing glyburide = 0.0  , values = ['No' 'Steady' 'Up' 'Down']\n",
      "% of missing tolbutamide = 0.0  , values = ['No' 'Steady']\n",
      "% of missing pioglitazone = 0.0  , values = ['No' 'Steady' 'Up' 'Down']\n",
      "% of missing rosiglitazone = 0.0  , values = ['No' 'Steady' 'Up' 'Down']\n",
      "% of missing acarbose = 0.0  , values = ['No' 'Steady' 'Up' 'Down']\n",
      "% of missing miglitol = 0.0  , values = ['No' 'Steady' 'Down' 'Up']\n",
      "% of missing troglitazone = 0.0  , values = ['No' 'Steady']\n",
      "% of missing tolazamide = 0.0  , values = ['No' 'Steady' 'Up']\n",
      "% of missing insulin = 0.0  , values = ['No' 'Up' 'Steady' 'Down']\n",
      "% of missing glyburide-metformin = 0.0  , values = ['No' 'Steady' 'Down' 'Up']\n"
     ]
    },
    {
     "name": "stdout",
     "output_type": "stream",
     "text": [
      "% of missing glipizide-metformin = 0.0  , values = ['No' 'Steady']\n",
      "% of missing glimepiride-pioglitazone = 0.0  , values = ['No' 'Steady']\n",
      "% of missing metformin-rosiglitazone = 0.0  , values = ['No' 'Steady']\n",
      "% of missing metformin-pioglitazone = 0.0  , values = ['No' 'Steady']\n",
      "% of missing change = 0.0  , values = ['No' 'Ch']\n",
      "% of missing diabetesMed = 0.0  , values = ['No' 'Yes']\n",
      "% of missing readmitted = 0.0  , values = ['>30' '<30']\n"
     ]
    }
   ],
   "source": [
    "#print percentage of missing observation in categorical features\n",
    "categorical_features = X.select_dtypes(exclude=['int64'])\n",
    "for cat in categorical_features.columns:\n",
    "    print('% of missing {} = {}  , values = {}'.format(cat,X[cat].isna().sum() / X.shape[0],X[cat].unique()))\n",
    "   "
   ]
  },
  {
   "cell_type": "code",
   "execution_count": 15,
   "metadata": {
    "colab": {},
    "colab_type": "code",
    "id": "DhTqldrVt-_R"
   },
   "outputs": [],
   "source": [
    "# replace value '?' with value 'undefined'\n",
    "X[\"diag_1\"].replace('?','Undefined',inplace=True)\n",
    "X[\"diag_2\"].replace('?','Undefined',inplace=True)\n",
    "X[\"diag_3\"].replace('?','Undefined',inplace=True)"
   ]
  },
  {
   "cell_type": "markdown",
   "metadata": {},
   "source": [
    "#new code\n",
    "X['diag_1'] = [x[:3] for x in X['diag_1']]\n",
    "print(X['diag_1'].value_counts().head(8))\n",
    "X['diag_1'] = ['Other' if x not in ('250','766','414','682','410','296','577')  else x for x in X['diag_1']]\n",
    "encoding_feature.append('diag_1')\n",
    "tbl_feature_importance.append(['diag_1',np.nan,np.nan,'TBD',''])"
   ]
  },
  {
   "cell_type": "markdown",
   "metadata": {},
   "source": [
    "#new code\n",
    "X['diag_2'] = [x[:3] for x in X['diag_2']]\n",
    "print(X['diag_2'].value_counts().head(8))\n",
    "X['diag_2'] = ['Other' if x not in ('250','401','276','305') else x for x in X['diag_2']]\n",
    "encoding_feature.append('diag_2')\n",
    "tbl_feature_importance.append(['diag_2',np.nan,np.nan,'TBD',''])"
   ]
  },
  {
   "cell_type": "markdown",
   "metadata": {},
   "source": [
    "#new code\n",
    "X['diag_3'] = [x[:3] for x in X['diag_3']]\n",
    "print(X['diag_3'].value_counts().head(8))\n",
    "X['diag_3'] = ['Other' if x not in ('250','401','276','305') else x for x in X['diag_3']]\n",
    "encoding_feature.append('diag_3')\n",
    "tbl_feature_importance.append(['diag_3',np.nan,np.nan,'TBD',''])"
   ]
  },
  {
   "cell_type": "code",
   "execution_count": 16,
   "metadata": {},
   "outputs": [],
   "source": [
    "#for features change and diabetesMed, we just tranform values to binary\n",
    "X['change'] = [1 if x=='Ch' else 0 for x in X['change']]\n",
    "X['diabetesMed'] = [1 if x=='Yes' else 0 for x in X['diabetesMed']]"
   ]
  },
  {
   "cell_type": "code",
   "execution_count": 17,
   "metadata": {
    "colab": {
     "base_uri": "https://localhost:8080/",
     "height": 266
    },
    "colab_type": "code",
    "id": "Nbj0Rd6buC7R",
    "outputId": "23214e95-1a01-4998-b0f7-93aa53e85d0f"
   },
   "outputs": [
    {
     "name": "stdout",
     "output_type": "stream",
     "text": [
      "% of missing age = 0.0\n",
      "% of missing admission_type_id = 0.0\n",
      "% of missing discharge_disposition_id = 0.0\n",
      "% of missing admission_source_id = 0.0\n",
      "% of missing time_in_hospital = 0.0\n",
      "% of missing num_lab_procedures = 0.0\n",
      "% of missing num_procedures = 0.0\n",
      "% of missing num_medications = 0.0\n",
      "% of missing number_outpatient = 0.0\n",
      "% of missing number_emergency = 0.0\n",
      "% of missing number_inpatient = 0.0\n",
      "% of missing number_diagnoses = 0.0\n",
      "% of missing change = 0.0\n",
      "% of missing diabetesMed = 0.0\n"
     ]
    }
   ],
   "source": [
    "#Again, print percentage of missing observation in numerical features\n",
    "numerical_features = X.select_dtypes(include=['int64'])\n",
    "for cat in numerical_features.columns:\n",
    "    print('% of missing {} = {}'.format(cat,X[cat].isna().sum() / X.shape[0]))"
   ]
  },
  {
   "cell_type": "code",
   "execution_count": 18,
   "metadata": {
    "colab": {
     "base_uri": "https://localhost:8080/",
     "height": 35
    },
    "colab_type": "code",
    "id": "0oJeZj82vu8Z",
    "outputId": "61ea49eb-7647-4231-cd17-0ba81a57e2f5"
   },
   "outputs": [
    {
     "data": {
      "text/plain": [
       "55"
      ]
     },
     "execution_count": 18,
     "metadata": {},
     "output_type": "execute_result"
    }
   ],
   "source": [
    "features_name = X.columns\n",
    "lists = tbl_feature_importance.copy()\n",
    "for f in features_name:\n",
    "  for item in lists:\n",
    "    if not (item[0] == f): \n",
    "      tbl_feature_importance.append([f,np.nan,'TBD',''])\n",
    "      break;\n",
    "len(tbl_feature_importance)"
   ]
  },
  {
   "cell_type": "code",
   "execution_count": 19,
   "metadata": {
    "colab": {
     "base_uri": "https://localhost:8080/",
     "height": 55
    },
    "colab_type": "code",
    "id": "ceHLSWXMSXSt",
    "outputId": "ad9d9aed-4c31-46e8-b75e-5746b9d95b2b"
   },
   "outputs": [
    {
     "data": {
      "text/plain": [
       "\"X = dataset.drop(['diag_1','diag_2', 'diag_3','metformin', 'repaglinide', 'nateglinide', 'chlorpropamide',\\n       'glimepiride', 'acetohexamide', 'glipizide', 'glyburide', 'tolbutamide',\\n       'pioglitazone', 'rosiglitazone', 'acarbose', 'miglitol', 'troglitazone',\\n       'tolazamide', 'examide', 'citoglipton', 'insulin','glyburide-metformin', 'glipizide-metformin',\\n       'glimepiride-pioglitazone', 'metformin-rosiglitazone','metformin-pioglitazone'], axis=1)\\n\\n#print dataset after deleting unusful features\\nX.head(10)\\nfor c in ['payer_code','diag_1','diag_2', 'diag_3','metformin', 'repaglinide', 'nateglinide', 'chlorpropamide',\\n       'glimepiride', 'acetohexamide', 'glipizide', 'glyburide', 'tolbutamide',\\n       'pioglitazone', 'rosiglitazone', 'acarbose', 'miglitol', 'troglitazone',\\n       'tolazamide', 'examide', 'citoglipton', 'insulin','glyburide-metformin', 'glipizide-metformin',\\n       'glimepiride-pioglitazone', 'metformin-rosiglitazone','metformin-pioglitazone']:\\n      tbl_feature_importance.append([c,np.nan,'TBD',''])\\n      #tbl_feature_importance.append([c,np.nan,'Rejected','Not useful- Business expert recomendation'])\\n#Correct datatype of features\\nX= X.astype({'payer_code':str,'admission_type_id':str,'discharge_disposition_id':str,'admission_source_id':str})\\ntbl_feature_importance.append(['admission_type_id',np.nan,'TBD',''])\\ntbl_feature_importance.append(['discharge_disposition_id',np.nan,'TBD',''])\\ntbl_feature_importance.append(['admission_source_id',np.nan,'TBD',''])\\n\""
      ]
     },
     "execution_count": 19,
     "metadata": {},
     "output_type": "execute_result"
    }
   ],
   "source": [
    "#per business expert recommendation, we delete following features since most of them don't have significant affect on re-admitted \n",
    "'''X = dataset.drop(['diag_1','diag_2', 'diag_3','metformin', 'repaglinide', 'nateglinide', 'chlorpropamide',\n",
    "       'glimepiride', 'acetohexamide', 'glipizide', 'glyburide', 'tolbutamide',\n",
    "       'pioglitazone', 'rosiglitazone', 'acarbose', 'miglitol', 'troglitazone',\n",
    "       'tolazamide', 'examide', 'citoglipton', 'insulin','glyburide-metformin', 'glipizide-metformin',\n",
    "       'glimepiride-pioglitazone', 'metformin-rosiglitazone','metformin-pioglitazone'], axis=1)\n",
    "\n",
    "#print dataset after deleting unusful features\n",
    "X.head(10)\n",
    "for c in ['payer_code','diag_1','diag_2', 'diag_3','metformin', 'repaglinide', 'nateglinide', 'chlorpropamide',\n",
    "       'glimepiride', 'acetohexamide', 'glipizide', 'glyburide', 'tolbutamide',\n",
    "       'pioglitazone', 'rosiglitazone', 'acarbose', 'miglitol', 'troglitazone',\n",
    "       'tolazamide', 'examide', 'citoglipton', 'insulin','glyburide-metformin', 'glipizide-metformin',\n",
    "       'glimepiride-pioglitazone', 'metformin-rosiglitazone','metformin-pioglitazone']:\n",
    "      tbl_feature_importance.append([c,np.nan,'TBD',''])\n",
    "      #tbl_feature_importance.append([c,np.nan,'Rejected','Not useful- Business expert recomendation'])\n",
    "#Correct datatype of features\n",
    "X= X.astype({'payer_code':str,'admission_type_id':str,'discharge_disposition_id':str,'admission_source_id':str})\n",
    "tbl_feature_importance.append(['admission_type_id',np.nan,'TBD',''])\n",
    "tbl_feature_importance.append(['discharge_disposition_id',np.nan,'TBD',''])\n",
    "tbl_feature_importance.append(['admission_source_id',np.nan,'TBD',''])\n",
    "'''"
   ]
  },
  {
   "cell_type": "code",
   "execution_count": 20,
   "metadata": {
    "colab": {
     "base_uri": "https://localhost:8080/",
     "height": 35
    },
    "colab_type": "code",
    "id": "enDh398FSXTA",
    "outputId": "50cee9af-8663-42b5-e0c8-41147bb47695"
   },
   "outputs": [
    {
     "name": "stdout",
     "output_type": "stream",
     "text": [
      "Number of categorical features = 28 ,Number of numerical features = 14 \n"
     ]
    }
   ],
   "source": [
    "categorical_features = X.select_dtypes(exclude=['int64'])\n",
    "del categorical_features['readmitted']\n",
    "numerical_features = X.select_dtypes(include=['int64'])\n",
    "print('Number of categorical features = {} ,Number of numerical features = {} '.format(categorical_features.shape[1],numerical_features.shape[1]))"
   ]
  },
  {
   "cell_type": "code",
   "execution_count": 21,
   "metadata": {
    "colab": {},
    "colab_type": "code",
    "id": "QYBucMCgSXTE"
   },
   "outputs": [],
   "source": [
    "#Plot numeric features \n",
    "#sns.pairplot(X, hue=\"readmitted\", palette=\"Set2\", diag_kind=\"kde\", height=2.5)\n",
    "#plt.show()"
   ]
  },
  {
   "cell_type": "code",
   "execution_count": 22,
   "metadata": {
    "colab": {
     "base_uri": "https://localhost:8080/",
     "height": 35
    },
    "colab_type": "code",
    "id": "cj2DGh4MSXTG",
    "outputId": "50b933da-51a7-40c6-f4ee-b0082e4cd796"
   },
   "outputs": [
    {
     "name": "stdout",
     "output_type": "stream",
     "text": [
      "there is no correlated features\n"
     ]
    }
   ],
   "source": [
    "#Check Collinear variale [correlated features]\n",
    "corr_matrix = X.corr().abs()\n",
    "# Select upper triangle of correlation matrix\n",
    "upper = corr_matrix.where(np.triu(np.ones(corr_matrix.shape), k=1).astype(np.bool))\n",
    "corr_features = [column for column in upper.columns if any(upper[column] > 0.95)]\n",
    "if np.array(corr_features).size == 0:\n",
    "    print('there is no correlated features')\n",
    "else:\n",
    "    print('Correlated features:')\n",
    "    print(corr_features)\n",
    "    for c in corr_features:\n",
    "        tbl_feature_importance.append([c,np.nan,'Rejected','Correlated'])"
   ]
  },
  {
   "cell_type": "code",
   "execution_count": 23,
   "metadata": {
    "colab": {},
    "colab_type": "code",
    "id": "nDqOxK36SXTJ"
   },
   "outputs": [],
   "source": [
    "X['readmitted'] = [1 if x == '<30' else 0 for x in X['readmitted']]"
   ]
  },
  {
   "cell_type": "code",
   "execution_count": 24,
   "metadata": {},
   "outputs": [],
   "source": [
    "# categorical_features = X.select_dtypes(include=['object'])\n",
    "# print(len(categorical_features.columns))\n",
    "# for c in categorical_features.columns:\n",
    "#     print(pd.get_dummies(X[c], prefix=c, drop_first=1))"
   ]
  },
  {
   "cell_type": "code",
   "execution_count": 25,
   "metadata": {
    "colab": {},
    "colab_type": "code",
    "id": "Dv7IMiXqSXTL",
    "scrolled": true
   },
   "outputs": [],
   "source": [
    "# #Transform categorical features to numerical using onehotencoder\n",
    "# categorical_features = X.select_dtypes(include=['object'])\n",
    "# for c in categorical_features.columns:\n",
    "#     X = pd.concat([X,pd.get_dummies(X[c], prefix=c, drop_first=1)],axis=1)\n",
    "#     X.drop([c],axis=1, inplace=True)\n",
    "# columns = X.columns\n",
    "# columns2 = []\n",
    "# for c in columns:\n",
    "#   columns2.append(c.replace('<','less').replace('>','greater').replace('/','_'))\n",
    "# X.columns = columns2  \n"
   ]
  },
  {
   "cell_type": "code",
   "execution_count": 26,
   "metadata": {},
   "outputs": [],
   "source": [
    "#This function is used to change the diag_1 column data to required types\n",
    "def diag_1_apply(data):\n",
    "    if data==\"\":\n",
    "        return \"Other\"\n",
    "    else:\n",
    "        row = int(data)\n",
    "        if (row >= 390 and row <= 459) or row == 785:\n",
    "            return \"circulatory\"\n",
    "        elif row == 250:\n",
    "            return \"diabetes\"\n",
    "        elif (row >=520 and row <=579) or row ==787:\n",
    "            return \"digestive\"\n",
    "        elif (row >=580 and row <= 629) or row ==788:\n",
    "            return \"genitourinary\"\n",
    "        elif row >=800 and row <= 999:\n",
    "            return \"injury\"\n",
    "        elif row >=710 and row <= 739:\n",
    "            return \"musculoskeletal\"\n",
    "        elif row >=140 and row <= 239:\n",
    "            return \"neoplasms\"\n",
    "        elif row >=460 and row <= 519:\n",
    "            return \"respiratory\"\n",
    "        else:\n",
    "            return \"other\"\n"
   ]
  },
  {
   "cell_type": "code",
   "execution_count": 27,
   "metadata": {},
   "outputs": [],
   "source": [
    "# importing RegEx Module for finding th pattern\n",
    "import re\n",
    "# Finding all the numbers from the string in diag_1 column data and storing first 3 numbers\n",
    "X['diag_1'] = [re.sub(\"\\D\", \"\", x)[:3]  for x in X['diag_1']]\n",
    "# applying the diag_1_apply function to transform the data in diag_1\n",
    "X['diag_1'] = X['diag_1'].apply(diag_1_apply)"
   ]
  },
  {
   "cell_type": "code",
   "execution_count": 28,
   "metadata": {},
   "outputs": [],
   "source": [
    "# Transforming the diag_2 and diag_3 data\n",
    "X['diag_2'] = [x if (x == '250' or x == '401' or x == '276' or x =='305') else \"other\" for x in X['diag_2']]\n",
    "X['diag_3'] = [x if (x == '250' or x == '401' or x == '276' or x =='305') else \"other\" for x in X['diag_3']]"
   ]
  },
  {
   "cell_type": "code",
   "execution_count": 29,
   "metadata": {},
   "outputs": [],
   "source": [
    "# Transforming all medication columns\n",
    "list = ['metformin', 'repaglinide', 'nateglinide',\n",
    "   'chlorpropamide', 'glimepiride', 'acetohexamide', 'glipizide',\n",
    "   'glyburide', 'tolbutamide', 'pioglitazone', 'rosiglitazone', 'acarbose',\n",
    "   'miglitol', 'troglitazone', 'tolazamide', 'insulin',\n",
    "   'glyburide-metformin', 'glipizide-metformin',\n",
    "   'glimepiride-pioglitazone', 'metformin-rosiglitazone',\n",
    "   'metformin-pioglitazone']\n",
    "for col in list:\n",
    "    X[col] = [0 if x == 'No' else 1 for x in X[col] ]"
   ]
  },
  {
   "cell_type": "code",
   "execution_count": 30,
   "metadata": {},
   "outputs": [
    {
     "name": "stdout",
     "output_type": "stream",
     "text": [
      "Table 1.0: Original features datatypes \n",
      "\n",
      "                     Feature  Data type\n",
      "0                       race  Character\n",
      "1                     gender  Character\n",
      "2                        age      int64\n",
      "3          admission_type_id      int64\n",
      "4   discharge_disposition_id      int64\n",
      "5        admission_source_id      int64\n",
      "6           time_in_hospital      int64\n",
      "7          medical_specialty  Character\n",
      "8         num_lab_procedures      int64\n",
      "9             num_procedures      int64\n",
      "10           num_medications      int64\n",
      "11         number_outpatient      int64\n",
      "12          number_emergency      int64\n",
      "13          number_inpatient      int64\n",
      "14                    diag_1  Character\n",
      "15                    diag_2  Character\n",
      "16                    diag_3  Character\n",
      "17          number_diagnoses      int64\n",
      "18                 A1Cresult  Character\n",
      "19                 metformin      int64\n",
      "20               repaglinide      int64\n",
      "21               nateglinide      int64\n",
      "22            chlorpropamide      int64\n",
      "23               glimepiride      int64\n",
      "24             acetohexamide      int64\n",
      "25                 glipizide      int64\n",
      "26                 glyburide      int64\n",
      "27               tolbutamide      int64\n",
      "28              pioglitazone      int64\n",
      "29             rosiglitazone      int64\n",
      "30                  acarbose      int64\n",
      "31                  miglitol      int64\n",
      "32              troglitazone      int64\n",
      "33                tolazamide      int64\n",
      "34                   insulin      int64\n",
      "35       glyburide-metformin      int64\n",
      "36       glipizide-metformin      int64\n",
      "37  glimepiride-pioglitazone      int64\n",
      "38   metformin-rosiglitazone      int64\n",
      "39    metformin-pioglitazone      int64\n",
      "40                    change      int64\n",
      "41               diabetesMed      int64\n",
      "42                readmitted      int64\n"
     ]
    }
   ],
   "source": [
    "tbl_dataformat = []\n",
    "for c in X.columns:\n",
    "    tbl_dataformat.append([c,'Character' if X[c].dtype == 'object' else X[c].dtype])\n",
    "print('Table 1.0: Original features datatypes \\n')      \n",
    "tbl_dataformat = pd.DataFrame(tbl_dataformat,columns=['Feature','Data type'])\n",
    "print(tbl_dataformat)"
   ]
  },
  {
   "cell_type": "code",
   "execution_count": 31,
   "metadata": {},
   "outputs": [],
   "source": [
    "# # removing outliers here\n",
    "# from scipy import stats\n",
    "# numerical_features = X.select_dtypes(include=['int64'])\n",
    "# X = X[(np.abs(stats.zscore(numerical_features)) < 3).all(axis=1)]\n",
    "# print(X.shape)\n"
   ]
  },
  {
   "cell_type": "code",
   "execution_count": 32,
   "metadata": {},
   "outputs": [],
   "source": [
    "# #Transform categorical features to numerical using onehotencoder\n",
    "# categorical_features = X.select_dtypes(include=['object'])\n",
    "# total=0\n",
    "# for c in categorical_features.columns:\n",
    "#     total+=pd.get_dummies(X[c], prefix=c).shape[1]\n",
    "#     print()\n",
    "# #     X = pd.concat([X,pd.get_dummies(X[c], prefix=c, drop_first=1)],axis=1)\n",
    "#     X = pd.concat([X,pd.get_dummies(X[c], prefix=c)],axis=1)\n",
    "#     X.drop([c],axis=1, inplace=True)\n",
    "# print(\"Total {} new columns are added in the dataset.\\nFrom Columns :\\n  {}\\n\".format(total,categorical_features.columns))\n",
    "# columns = X.columns\n",
    "# columns2 = []\n",
    "# for c in columns:\n",
    "#   columns2.append(c.replace('<','less').replace('>','greater').replace('/','_'))\n",
    "# print(\"Created Columns are :\\n\")\n",
    "# for item in columns2:\n",
    "#     print(item)\n",
    "# X.columns = columns2  "
   ]
  },
  {
   "cell_type": "code",
   "execution_count": 33,
   "metadata": {},
   "outputs": [
    {
     "name": "stdout",
     "output_type": "stream",
     "text": [
      "    race  gender  medical_specialty  diag_1  diag_2  diag_3  A1Cresult\n",
      "0    1.0     0.0                4.0     2.0     4.0     4.0        3.0\n",
      "1    1.0     0.0                4.0     8.0     4.0     4.0        3.0\n",
      "2    0.0     0.0                4.0     8.0     0.0     4.0        3.0\n",
      "3    1.0     1.0                4.0     8.0     4.0     4.0        3.0\n",
      "4    1.0     1.0                4.0     7.0     4.0     0.0        3.0\n",
      "5    1.0     1.0                4.0     1.0     4.0     0.0        3.0\n",
      "6    1.0     1.0                4.0     1.0     4.0     4.0        3.0\n",
      "7    1.0     1.0                4.0     1.0     4.0     0.0        3.0\n",
      "8    1.0     0.0                4.0     1.0     4.0     4.0        3.0\n",
      "9    1.0     0.0                3.0     1.0     4.0     4.0        3.0\n",
      "10   0.0     0.0                4.0     2.0     4.0     4.0        3.0\n",
      "11   0.0     1.0                4.0     7.0     4.0     4.0        3.0\n",
      "12   1.0     0.0                2.0     1.0     4.0     4.0        3.0\n",
      "13   1.0     1.0                2.0     1.0     4.0     4.0        3.0\n",
      "14   0.0     0.0                4.0     9.0     4.0     4.0        3.0\n"
     ]
    }
   ],
   "source": [
    "# This code block is for Ordinal encoding the categorical dataset from X\n",
    "from sklearn.preprocessing import OrdinalEncoder as OE\n",
    "categorical_features = X.select_dtypes(exclude=['int64'])\n",
    "encoder = OE()\n",
    "encoded = encoder.fit_transform(categorical_features)\n",
    "\n",
    "encoded_data = pd.DataFrame(encoded,columns=categorical_features.columns)\n",
    "print(encoded_data.head(15))\n",
    "for col in categorical_features.columns:\n",
    "    X[col] = encoded_data[col]"
   ]
  },
  {
   "cell_type": "code",
   "execution_count": 34,
   "metadata": {},
   "outputs": [],
   "source": [
    "# Dropping na values from X and setting Y euals to X readmitted column\n",
    "X.dropna(inplace=True)\n",
    "Y = X[\"readmitted\"]\n",
    "del X[\"readmitted\"]"
   ]
  },
  {
   "cell_type": "code",
   "execution_count": 35,
   "metadata": {},
   "outputs": [
    {
     "name": "stdout",
     "output_type": "stream",
     "text": [
      "Column Name= race  ,\n",
      " values = [1. 0. 3. 2.]\n",
      "Column Name= gender  ,\n",
      " values = [0. 1.]\n",
      "Column Name= age  ,\n",
      " values = [ 5 15 25 35 45 55 65 75 85 95]\n",
      "Column Name= admission_type_id  ,\n",
      " values = [6 1 2 3 4 5 8 7]\n",
      "Column Name= discharge_disposition_id  ,\n",
      " values = [25  1  3  6  2  5 11  7 10  4 14 18  8 13 12 16 17 22 23  9 20 15 24 28\n",
      " 19 27]\n",
      "Column Name= admission_source_id  ,\n",
      " values = [ 1  7  2  4  5  6 20  3 17  8  9 14 10 22 11 25 13]\n",
      "Column Name= time_in_hospital  ,\n",
      " values = [ 1  3  2  4  5 13 12  9  7 10  6 11  8 14]\n",
      "Column Name= medical_specialty  ,\n",
      " values = [4. 3. 2. 0. 5. 1.]\n",
      "Column Name= num_lab_procedures  ,\n",
      " values = [ 41  59  11  44  51  31  70  73  68  33  47  62  60  55  49  75  45  29\n",
      "  35  42  66  36  19  64  25  53  52  87  27  37  46  28  48  72  10   2\n",
      "  65  67  40  54  58  57  43  32  83  34  39  69  38  56  22  96  78  61\n",
      "  88  50   1  18  82   9  63  24  71  77  81  76  90  93   3 103  13  80\n",
      "  85  16  15  12  30  23  17  21  79  26   5  95  97  84  14  74 105  86\n",
      "  98  20   6  94   8 102 100   7  89  91  92   4 101  99 114 113 111 129\n",
      " 107 108 106 104 109 120 132 121 126 118]\n",
      "Column Name= num_procedures  ,\n",
      " values = [0 5 1 6 2 3 4]\n",
      "Column Name= num_medications  ,\n",
      " values = [ 1 18 13 16  8 21 12 28 17 11 15 31  2 23 19  7 20 14 10 22  9 27 25  4\n",
      " 32  6 30 26 24 33  5 39  3 29 61 40 46 41 36 34 35 50 43 42 37 51 38 45\n",
      " 54 52 49 62 55 47 44 53 48 57 59 56 60 63 58 70 67 64 69 65 68 66 81 79\n",
      " 75 72 74]\n",
      "Column Name= number_outpatient  ,\n",
      " values = [ 0  2  1  5  7  9  3  8  4 12 11  6 20 15 10 13 14 16 21 35 17 29 36 18\n",
      " 19 27 22 24 42 39 34 26 33 25 23 28 37 38 40]\n",
      "Column Name= number_emergency  ,\n",
      " values = [ 0  1  2  4  3  9  5  7  6  8 22 25 10 13 42 16 11 28 15 14 18 12 21 20\n",
      " 19 46 76 37 64 63 54 24 29]\n",
      "Column Name= number_inpatient  ,\n",
      " values = [ 0  1  2  3  6  5  4  7  8  9 15 10 11 14 12 13 17 16 21 18 19]\n",
      "Column Name= diag_1  ,\n",
      " values = [2. 8. 7. 1. 9. 5. 6. 3. 4. 0.]\n",
      "Column Name= diag_2  ,\n",
      " values = [4. 0. 3. 1. 2.]\n",
      "Column Name= diag_3  ,\n",
      " values = [4. 0. 1. 3. 2.]\n",
      "Column Name= number_diagnoses  ,\n",
      " values = [ 1  9  6  7  5  8  3  4  2 16 12 13 15 10 11 14]\n",
      "Column Name= A1Cresult  ,\n",
      " values = [3. 0. 1. 2.]\n",
      "Column Name= metformin  ,\n",
      " values = [0 1]\n",
      "Column Name= repaglinide  ,\n",
      " values = [0 1]\n",
      "Column Name= nateglinide  ,\n",
      " values = [0 1]\n",
      "Column Name= chlorpropamide  ,\n",
      " values = [0 1]\n",
      "Column Name= glimepiride  ,\n",
      " values = [0 1]\n",
      "Column Name= acetohexamide  ,\n",
      " values = [0 1]\n",
      "Column Name= glipizide  ,\n",
      " values = [0 1]\n",
      "Column Name= glyburide  ,\n",
      " values = [0 1]\n",
      "Column Name= tolbutamide  ,\n",
      " values = [0 1]\n",
      "Column Name= pioglitazone  ,\n",
      " values = [0 1]\n",
      "Column Name= rosiglitazone  ,\n",
      " values = [0 1]\n",
      "Column Name= acarbose  ,\n",
      " values = [0 1]\n",
      "Column Name= miglitol  ,\n",
      " values = [0 1]\n",
      "Column Name= troglitazone  ,\n",
      " values = [0 1]\n",
      "Column Name= tolazamide  ,\n",
      " values = [0 1]\n",
      "Column Name= insulin  ,\n",
      " values = [0 1]\n",
      "Column Name= glyburide-metformin  ,\n",
      " values = [0 1]\n",
      "Column Name= glipizide-metformin  ,\n",
      " values = [0 1]\n",
      "Column Name= glimepiride-pioglitazone  ,\n",
      " values = [0 1]\n",
      "Column Name= metformin-rosiglitazone  ,\n",
      " values = [0 1]\n",
      "Column Name= metformin-pioglitazone  ,\n",
      " values = [0 1]\n",
      "Column Name= change  ,\n",
      " values = [0 1]\n",
      "Column Name= diabetesMed  ,\n",
      " values = [0 1]\n"
     ]
    }
   ],
   "source": [
    "# printing Columns and there different values.\n",
    "for col in X.columns:\n",
    "    print('Column Name= {}  ,\\n values = {}'.format(col,X[col].unique()))"
   ]
  },
  {
   "cell_type": "code",
   "execution_count": 36,
   "metadata": {
    "colab": {},
    "colab_type": "code",
    "id": "4EbvyorpSXTO"
   },
   "outputs": [],
   "source": [
    "from sklearn.model_selection import train_test_split\n",
    "from sklearn.linear_model import LogisticRegression\n",
    "from sklearn.ensemble import RandomForestClassifier\n",
    "from sklearn.metrics import confusion_matrix  \n",
    "from sklearn.metrics import accuracy_score"
   ]
  },
  {
   "cell_type": "code",
   "execution_count": 37,
   "metadata": {
    "colab": {},
    "colab_type": "code",
    "id": "iZ0iEtL5SXTR"
   },
   "outputs": [],
   "source": [
    "x_train, x_test, y_train, y_test = train_test_split(X, Y, test_size=0.40, random_state=0)"
   ]
  },
  {
   "cell_type": "code",
   "execution_count": 38,
   "metadata": {
    "colab": {},
    "colab_type": "code",
    "id": "qVzBfwzeSXTU"
   },
   "outputs": [],
   "source": [
    "# feature_importance_values = np.zeros(x_train.shape[1])\n",
    "# from sklearn.ensemble import GradientBoostingClassifier\n",
    "# n_iterations = 10\n",
    "# for i in range(n_iterations):\n",
    "#     classifier = GradientBoostingClassifier(n_estimators=50,verbose = 0)\n",
    "#     classifier.fit(x_train, y_train)\n",
    "#     # Record the feature importances\n",
    "#     feature_importance_values += classifier.feature_importances_ / n_iterations"
   ]
  },
  {
   "cell_type": "code",
   "execution_count": 39,
   "metadata": {},
   "outputs": [],
   "source": [
    "feature_importance_values = np.zeros(x_train.shape[1])\n",
    "from sklearn.ensemble import GradientBoostingClassifier\n",
    "classifier = GradientBoostingClassifier(n_estimators=100,verbose = 0)\n",
    "classifier.fit(x_train, y_train)\n",
    "feature_importance_values = classifier.feature_importances_"
   ]
  },
  {
   "cell_type": "code",
   "execution_count": 40,
   "metadata": {
    "colab": {
     "base_uri": "https://localhost:8080/",
     "height": 35
    },
    "colab_type": "code",
    "id": "_PEDeEbNr5eT",
    "outputId": "0cc914f3-644f-49d9-ac45-1570fa449e74"
   },
   "outputs": [
    {
     "data": {
      "text/plain": [
       "(61056, 42)"
      ]
     },
     "execution_count": 40,
     "metadata": {},
     "output_type": "execute_result"
    }
   ],
   "source": [
    "x_train.shape"
   ]
  },
  {
   "cell_type": "code",
   "execution_count": 41,
   "metadata": {
    "colab": {
     "base_uri": "https://localhost:8080/",
     "height": 1000
    },
    "colab_type": "code",
    "id": "Hmz-e6V3SXTX",
    "outputId": "84de2e75-fb42-423b-f6b8-dfc25864a283"
   },
   "outputs": [
    {
     "data": {
      "image/png": "[encoded data removed]",
      "text/plain": [
       "<Figure size 2160x1080 with 1 Axes>"
      ]
     },
     "metadata": {
      "needs_background": "light"
     },
     "output_type": "display_data"
    },
    {
     "name": "stdout",
     "output_type": "stream",
     "text": [
      "Selected features are: ['number_inpatient', 'discharge_disposition_id', 'number_emergency', 'number_diagnoses', 'age', 'num_lab_procedures', 'num_medications', 'time_in_hospital', 'diabetesMed', 'insulin', 'admission_type_id', 'diag_1', 'number_outpatient', 'metformin', 'diag_2', 'num_procedures', 'rosiglitazone', 'race', 'admission_source_id', 'medical_specialty', 'A1Cresult', 'nateglinide', 'glyburide']\n",
      "Number of training set 61056 & Number of testing set 40704\n"
     ]
    },
    {
     "data": {
      "image/png": "[encoded data removed]",
      "text/plain": [
       "<Figure size 432x288 with 1 Axes>"
      ]
     },
     "metadata": {
      "needs_background": "light"
     },
     "output_type": "display_data"
    }
   ],
   "source": [
    "feature_importances = pd.DataFrame({'feature': X.columns, 'importance': feature_importance_values})\n",
    "# Sort features according to importance\n",
    "feature_importances = feature_importances.sort_values('importance', ascending = False).reset_index(drop = True)\n",
    "# Normalize the feature importances to add up to one\n",
    "feature_importances['normalized_importance'] = feature_importances['importance'] / feature_importances['importance'].sum()\n",
    "feature_importances['cumulative_importance'] = np.cumsum(feature_importances['normalized_importance'])\n",
    "# Extract the features with zero importance\n",
    "record_zero_importance = feature_importances[feature_importances['importance'] == 0.0] \n",
    "# print(feature_importances.head())\n",
    "'''\n",
    "for i,row in record_zero_importance.iterrows():\n",
    "  for c in tbl_feature_importance:\n",
    "    if row['feature'].startswith(c[0]):\n",
    "      c[2] = 'Rejected'\n",
    "      c[3] = 'Zero Importance'\n",
    "'''\n",
    "      \n",
    "threshold = 0.001\n",
    "n_features = feature_importances[feature_importances['importance'] > threshold].shape[0]\n",
    "# n_features = 18\n",
    "plt.figure(figsize = (30, 15))\n",
    "ax = plt.subplot()\n",
    "ax.barh([x for x in range(n_features,0,-1)], feature_importances['normalized_importance'][:n_features], align = 'center', edgecolor = 'k')\n",
    "\n",
    "\n",
    "ax.set_yticks([x for x in range(n_features,0,-1)])\n",
    "ax.set_yticklabels(feature_importances['feature'][:n_features], size = 12)\n",
    "\n",
    "# Plot features importance\n",
    "plt.axvline(x=threshold, color='k', linestyle='--')\n",
    "plt.xlabel('Normalized Importance', size = 16)\n",
    "plt.title('Feature Importances', size = 18)\n",
    "plt.show()\n",
    "\n",
    "# Plot cumulative importance rate\n",
    "plt.figure(figsize = (6, 4))\n",
    "plt.plot([x for x in range(1, len(feature_importances) + 1)], feature_importances['cumulative_importance'], 'r-')\n",
    "plt.xlabel('Number of Features', size = 14); plt.ylabel('Cumulative Importance', size = 14); \n",
    "plt.title('Cumulative Feature Importance', size = 16);\n",
    "\n",
    "feature_importances_approved = feature_importances.loc[feature_importances['importance'] > threshold,:].sort_values('importance', ascending = False).reset_index(drop = True)\n",
    "selected_features = ','.join([str(x) for x in feature_importances_approved['feature'][:min(n_features,feature_importances_approved.shape[0])]]).split(',')\n",
    "print('Selected features are: {}'.format(selected_features))\n",
    "x_train = x_train[selected_features]\n",
    "x_test = x_test[selected_features]\n",
    "print('Number of training set {} & Number of testing set {}'.format(x_train.shape[0],x_test.shape[0]))\n"
   ]
  },
  {
   "cell_type": "code",
   "execution_count": 42,
   "metadata": {},
   "outputs": [
    {
     "name": "stdout",
     "output_type": "stream",
     "text": [
      "Selected features are: ['number_inpatient', 'discharge_disposition_id', 'number_emergency', 'number_diagnoses', 'age', 'num_lab_procedures', 'num_medications', 'time_in_hospital', 'diabetesMed', 'insulin', 'admission_type_id', 'diag_1', 'number_outpatient', 'metformin', 'diag_2', 'num_procedures', 'rosiglitazone', 'race', 'admission_source_id', 'medical_specialty', 'A1Cresult', 'nateglinide', 'glyburide']\n",
      "Number of training set 61056 & Number of testing set 40704\n"
     ]
    },
    {
     "data": {
      "image/png": "[encoded data removed]",
      "text/plain": [
       "<Figure size 432x288 with 1 Axes>"
      ]
     },
     "metadata": {
      "needs_background": "light"
     },
     "output_type": "display_data"
    }
   ],
   "source": [
    "# Plot cumulative importance rate\n",
    "plt.figure(figsize = (6, 4))\n",
    "plt.plot([x for x in range(1,20 + 1)], feature_importances['normalized_importance'][0:20], 'r-')\n",
    "plt.xlabel('Number of Features', size = 14); plt.ylabel('Normalized Importance', size = 14); \n",
    "plt.title('normalized Feature Importance', size = 16);\n",
    "\n",
    "feature_importances_approved = feature_importances.loc[feature_importances['importance'] > threshold,:].sort_values('importance', ascending = False).reset_index(drop = True)\n",
    "selected_features = ','.join([str(x) for x in feature_importances_approved['feature'][:min(n_features,feature_importances_approved.shape[0])]]).split(',')\n",
    "print('Selected features are: {}'.format(selected_features))\n",
    "x_train = x_train[selected_features]\n",
    "x_test = x_test[selected_features]\n",
    "print('Number of training set {} & Number of testing set {}'.format(x_train.shape[0],x_test.shape[0]))"
   ]
  },
  {
   "cell_type": "code",
   "execution_count": 43,
   "metadata": {
    "colab": {
     "base_uri": "https://localhost:8080/",
     "height": 301
    },
    "colab_type": "code",
    "id": "WU2SWkHnSXTY",
    "outputId": "6e89da76-03d4-4652-e803-5bd340b60989"
   },
   "outputs": [
    {
     "name": "stdout",
     "output_type": "stream",
     "text": [
      "Table 1.0: Original features datatypes \n",
      "\n",
      "                     Feature Data type\n",
      "0                       race   float64\n",
      "1                     gender   float64\n",
      "2                        age     int64\n",
      "3          admission_type_id     int64\n",
      "4   discharge_disposition_id     int64\n",
      "5        admission_source_id     int64\n",
      "6           time_in_hospital     int64\n",
      "7          medical_specialty   float64\n",
      "8         num_lab_procedures     int64\n",
      "9             num_procedures     int64\n",
      "10           num_medications     int64\n",
      "11         number_outpatient     int64\n",
      "12          number_emergency     int64\n",
      "13          number_inpatient     int64\n",
      "14                    diag_1   float64\n",
      "15                    diag_2   float64\n",
      "16                    diag_3   float64\n",
      "17          number_diagnoses     int64\n",
      "18                 A1Cresult   float64\n",
      "19                 metformin     int64\n",
      "20               repaglinide     int64\n",
      "21               nateglinide     int64\n",
      "22            chlorpropamide     int64\n",
      "23               glimepiride     int64\n",
      "24             acetohexamide     int64\n",
      "25                 glipizide     int64\n",
      "26                 glyburide     int64\n",
      "27               tolbutamide     int64\n",
      "28              pioglitazone     int64\n",
      "29             rosiglitazone     int64\n",
      "30                  acarbose     int64\n",
      "31                  miglitol     int64\n",
      "32              troglitazone     int64\n",
      "33                tolazamide     int64\n",
      "34                   insulin     int64\n",
      "35       glyburide-metformin     int64\n",
      "36       glipizide-metformin     int64\n",
      "37  glimepiride-pioglitazone     int64\n",
      "38   metformin-rosiglitazone     int64\n",
      "39    metformin-pioglitazone     int64\n",
      "40                    change     int64\n",
      "41               diabetesMed     int64\n"
     ]
    }
   ],
   "source": [
    "# Table 1.1: features datatypes after cleansing & Transformation\n",
    "tbl_dataformat2 = []\n",
    "for c in X.columns:\n",
    "    tbl_dataformat2.append([c,'Character' if X[c].dtype == 'object' else X[c].dtype])\n",
    "print('Table 1.0: Original features datatypes \\n')\n",
    "tbl_dataformat2 = pd.DataFrame(tbl_dataformat2,columns=['Feature','Data type'])\n",
    "print(tbl_dataformat2)"
   ]
  },
  {
   "cell_type": "code",
   "execution_count": 44,
   "metadata": {
    "colab": {
     "base_uri": "https://localhost:8080/",
     "height": 1000
    },
    "colab_type": "code",
    "id": "ceNFrye-SXTa",
    "outputId": "3bdb4002-ea89-4635-b9a2-30351a536ff9"
   },
   "outputs": [
    {
     "name": "stdout",
     "output_type": "stream",
     "text": [
      "\n",
      "Table 1.3: Original features datatypes\n",
      "\n",
      "                  Feature  Importance(avg)   Decision                                            Comment\n",
      "             encounter_id              NaN   Rejected              Visit identifier, doest affect output\n",
      "              patient_nbr              NaN   Rejected            Patient identifier, doest affect output\n",
      "               payer_code              NaN   Rejected  Insurance company identifier, doest affect output\n",
      "                   gender         0.000541   Rejected                        Less than threshold 0.00093\n",
      "                      age         0.030060  Confirmed                                                   \n",
      "                     race         0.001481  Confirmed                                                   \n",
      "                A1Cresult         0.001165  Confirmed                                                   \n",
      "            max_glu_serum              NaN   Rejected                                 95% missing values\n",
      "                   weight              NaN   Rejected                                 97% missing values\n",
      "                  examide         0.000000   Rejected                        Less than threshold 0.00093\n",
      "              citoglipton              NaN   Rejected                    One value, doesnt affect output\n",
      "        medical_specialty         0.001278  Confirmed                                                   \n",
      "                     race         0.001481  Confirmed                                                   \n",
      "                   gender         0.000541   Rejected                        Less than threshold 0.00093\n",
      "                      age         0.030060  Confirmed                                                   \n",
      "        admission_type_id         0.008503  Confirmed                                                   \n",
      " discharge_disposition_id         0.269496  Confirmed                                                   \n",
      "      admission_source_id         0.001441  Confirmed                                                   \n",
      "         time_in_hospital         0.018374  Confirmed                                                   \n",
      "        medical_specialty         0.001278  Confirmed                                                   \n",
      "       num_lab_procedures         0.020484  Confirmed                                                   \n",
      "           num_procedures         0.002870  Confirmed                                                   \n",
      "          num_medications         0.018977  Confirmed                                                   \n",
      "        number_outpatient         0.005584  Confirmed                                                   \n",
      "         number_emergency         0.036245  Confirmed                                                   \n",
      "         number_inpatient         0.505357  Confirmed                                                   \n",
      "                   diag_1         0.006616  Confirmed                                                   \n",
      "                   diag_2         0.003545  Confirmed                                                   \n",
      "                   diag_3         0.000923   Rejected                        Less than threshold 0.00093\n",
      "         number_diagnoses         0.034447  Confirmed                                                   \n",
      "                A1Cresult         0.001165  Confirmed                                                   \n",
      "                metformin         0.003638  Confirmed                                                   \n",
      "              repaglinide         0.000807   Rejected                        Less than threshold 0.00093\n",
      "              nateglinide         0.001152  Confirmed                                                   \n",
      "           chlorpropamide         0.000000   Rejected                        Less than threshold 0.00093\n",
      "              glimepiride         0.000652   Rejected                        Less than threshold 0.00093\n",
      "            acetohexamide         0.000000   Rejected                        Less than threshold 0.00093\n",
      "                glipizide         0.000491   Rejected                        Less than threshold 0.00093\n",
      "                glyburide         0.001015  Confirmed                                                   \n",
      "              tolbutamide         0.000782   Rejected                        Less than threshold 0.00093\n",
      "             pioglitazone         0.000932   Rejected                        Less than threshold 0.00093\n",
      "            rosiglitazone         0.001701  Confirmed                                                   \n",
      "                 acarbose         0.000000   Rejected                        Less than threshold 0.00093\n",
      "                 miglitol         0.000488   Rejected                        Less than threshold 0.00093\n",
      "             troglitazone         0.000000   Rejected                        Less than threshold 0.00093\n",
      "               tolazamide         0.000000   Rejected                        Less than threshold 0.00093\n",
      "                  insulin         0.008636  Confirmed                                                   \n",
      "      glyburide-metformin         0.000000   Rejected                        Less than threshold 0.00093\n",
      "      glipizide-metformin         0.000000   Rejected                        Less than threshold 0.00093\n",
      " glimepiride-pioglitazone         0.000000   Rejected                        Less than threshold 0.00093\n",
      "  metformin-rosiglitazone         0.000000   Rejected                        Less than threshold 0.00093\n",
      "   metformin-pioglitazone         0.000000   Rejected                        Less than threshold 0.00093\n",
      "                   change         0.000357   Rejected                        Less than threshold 0.00093\n",
      "              diabetesMed         0.011959  Confirmed                                                   \n",
      "               readmitted              NaN        TBD                                                   \n"
     ]
    }
   ],
   "source": [
    "tbl_feature_importance = pd.DataFrame(tbl_feature_importance, columns=['Feature','Importance(avg)','Decision','Comment'])\n",
    "for i,row in tbl_feature_importance.iterrows():\n",
    "    for j,importance in record_zero_importance.iterrows():\n",
    "        if (row['Feature'] in importance['feature']) & (row['Decision'] != 'Confirmed'): \n",
    "            tbl_feature_importance.at[i,'Importance(avg)'] = 0\n",
    "            tbl_feature_importance.at[i,'Decision'] = 'Rejected'\n",
    "            tbl_feature_importance.at[i,'Comment'] = 'Zero importance'\n",
    "min_selected_importance = feature_importances.loc[n_features,'importance']\n",
    "for i,row in tbl_feature_importance.iterrows():\n",
    "    found = 0\n",
    "    for j,importance in feature_importances.iterrows():        \n",
    "        if (row['Feature'] in importance['feature']) & (row['Decision'] != 'Confirmed'): \n",
    "            tbl_feature_importance.at[i,'Importance(avg)'] = importance['importance']\n",
    "            tbl_feature_importance.at[i,'Decision'] = 'Confirmed' if importance['importance'] > min_selected_importance else 'Rejected'\n",
    "            tbl_feature_importance.at[i,'Comment'] = '' if importance['importance'] > min_selected_importance else 'Less than threshold ' + str(round(min_selected_importance,5))\n",
    "            #print ('F:{} , imp:{} = {}  status{}'.format(row['Feature'],importance['feature'],importance['importance'],tbl_feature_importance.at[i,'Decision']))\n",
    "            found = 1\n",
    "            break\n",
    "# Table 1.3: features importance\n",
    "print('\\nTable 1.3: Original features datatypes\\n')\n",
    "print(tbl_feature_importance.to_string(index=False))"
   ]
  },
  {
   "cell_type": "code",
   "execution_count": 45,
   "metadata": {
    "colab": {
     "base_uri": "https://localhost:8080/",
     "height": 106
    },
    "colab_type": "code",
    "id": "Fq_uyiCpSXTc",
    "outputId": "2bed8bf6-4ff9-4246-e40f-2da4bc44e5d0"
   },
   "outputs": [
    {
     "name": "stdout",
     "output_type": "stream",
     "text": [
      "Sample counts \n",
      "Original = 101766\n",
      "Cleansed & transformed = 101760\n",
      "Training = 61056\n",
      "Testing = 40704\n"
     ]
    }
   ],
   "source": [
    "x_train, x_test, y_train, y_test = train_test_split(X, Y, test_size=0.40, random_state=0)\n",
    "x_train = x_train[selected_features]\n",
    "x_test = x_test[selected_features]\n",
    "print('Sample counts \\nOriginal = {}'.format(dataset.shape[0]))\n",
    "print('Cleansed & transformed = {}'.format(X.shape[0]))\n",
    "print('Training = {}'.format(x_train.shape[0]))\n",
    "print('Testing = {}'.format(x_test.shape[0]))"
   ]
  },
  {
   "cell_type": "code",
   "execution_count": 46,
   "metadata": {
    "colab": {
     "base_uri": "https://localhost:8080/",
     "height": 312
    },
    "colab_type": "code",
    "id": "MHc0wuxZSXTe",
    "outputId": "b53bc3fe-0fea-439e-b872-c573b0ac9605"
   },
   "outputs": [
    {
     "name": "stdout",
     "output_type": "stream",
     "text": [
      "Algorith:DecisionTree , Accuracy:0.7978577044025157 , precision:0.15591498965582096 , log_loss:6.981835710755498 , recall_score:0.18144014007441453 , f1_score:0.16771191584058262\n"
     ]
    },
    {
     "data": {
      "image/png": "[encoded data removed]",
      "text/plain": [
       "<Figure size 432x288 with 1 Axes>"
      ]
     },
     "metadata": {
      "needs_background": "light"
     },
     "output_type": "display_data"
    }
   ],
   "source": [
    "from sklearn.model_selection import cross_val_score\n",
    "from sklearn.metrics import accuracy_score, precision_score, recall_score, roc_auc_score,log_loss,f1_score\n",
    "model_result = []\n",
    "model_accuracy = []\n",
    "model_accuracy_10fold = pd.DataFrame()\n",
    "# Applying the first algorithm [CART] and check accuracy.\n",
    "#1. CART\n",
    "from sklearn.tree import DecisionTreeClassifier,export_graphviz\n",
    "classifier = DecisionTreeClassifier(random_state =0)\n",
    "classifier.fit(x_train, y_train)\n",
    "y_pred = classifier.predict(x_test)\n",
    "cm = confusion_matrix(y_test, y_pred)  \n",
    "model_result.append(['DecisionTree',accuracy_score(y_test, y_pred),\\\n",
    "                     precision_score(y_test, y_pred),\n",
    "                     log_loss(y_test, y_pred),\n",
    "                     recall_score(y_test, y_pred),\n",
    "                     f1_score(y_test, y_pred)])\n",
    "print('Algorith:{} , Accuracy:{} , precision:{} , log_loss:{} , recall_score:{} , f1_score:{}'.format(model_result[-1][0],model_result[-1][1],model_result[-1][2],model_result[-1][3],model_result[-1][4],model_result[-1][5]))\n",
    "accuracies = cross_val_score(estimator = classifier, X =x_train, y = y_train, cv = 10)\n",
    "model_accuracy.append(['DecisionTree',accuracies.min(),accuracies.max(),accuracies.mean()])\n",
    "model_accuracy_10fold['DecisionTree'] = accuracies\n",
    "\n",
    "x_range = [x for x in range(1,11)]\n",
    "ax = sns.lineplot(x=x_range,y=accuracies,markers=True, dashes=False)\n",
    "ax.set_xticks(x_range)\n",
    "ax.set_title('Decision Tree 10 fold accuracy')\n",
    "ax.set_ylabel('Accuracy')\n",
    "ax.set_xlabel('10 Fold')\n",
    "plt.show();"
   ]
  },
  {
   "cell_type": "code",
   "execution_count": 47,
   "metadata": {
    "colab": {
     "base_uri": "https://localhost:8080/",
     "height": 52
    },
    "colab_type": "code",
    "id": "KJjabvxISXTg",
    "outputId": "8ca6bd71-c28c-4748-aa54-c202864ce06f"
   },
   "outputs": [
    {
     "name": "stdout",
     "output_type": "stream",
     "text": [
      "accuracy_score : 0.9999836215932913\n",
      "recall_score : 0.9998526812021213\n"
     ]
    }
   ],
   "source": [
    "#As we see accuracy is fine 79% but Recall is very low 16%\n",
    "# we will check model overfitting or underfitting\n",
    "# test prediction accuracy on training data  \n",
    "y_pred = classifier.predict(x_train)\n",
    "cm = confusion_matrix(y_train, y_pred)  \n",
    "print('accuracy_score : {}'.format(accuracy_score(y_train, y_pred)))\n",
    "print('recall_score : {}'.format(recall_score(y_train, y_pred)))"
   ]
  },
  {
   "cell_type": "code",
   "execution_count": 47,
   "metadata": {
    "colab": {
     "base_uri": "https://localhost:8080/",
     "height": 108
    },
    "colab_type": "code",
    "id": "L5OuKDwfSXTi",
    "outputId": "1bfe923a-42f6-437e-fab6-3ab179d42dd2"
   },
   "outputs": [
    {
     "name": "stderr",
     "output_type": "stream",
     "text": [
      "Using TensorFlow backend.\n"
     ]
    },
    {
     "name": "stdout",
     "output_type": "stream",
     "text": [
      "Original dataset shape Counter({0: 54251, 1: 6806})\n",
      "New dataset shape Counter({0: 54517, 1: 53970})\n"
     ]
    }
   ],
   "source": [
    "# this is what we expect, model is overfitting, we need to balance data then test again\n",
    "# check data balancing\n",
    "from imblearn.over_sampling import SMOTE\n",
    "print('Original dataset shape {}'.format(Counter(y_train)))\n",
    "smt = SMOTE(random_state=0)\n",
    "X_balanced, Y_balanced = smt.fit_sample(X, Y)\n",
    "X_balanced = pd.DataFrame(X_balanced,columns=X.columns)\n",
    "x_train, x_test, y_train, y_test = train_test_split(X_balanced, Y_balanced, test_size=0.40, random_state=0)\n",
    "x_train = x_train[selected_features]\n",
    "x_test = x_test[selected_features]\n",
    "print('New dataset shape {}'.format(Counter(y_train)))"
   ]
  },
  {
   "cell_type": "code",
   "execution_count": 48,
   "metadata": {
    "colab": {
     "base_uri": "https://localhost:8080/",
     "height": 332
    },
    "colab_type": "code",
    "id": "qAqDNP4HSXTk",
    "outputId": "a4bdb50f-a54a-491f-acbe-e6ef1272a69c"
   },
   "outputs": [
    {
     "name": "stdout",
     "output_type": "stream",
     "text": [
      "Algorith:DecisionTree , Accuracy:0.7945385413066022 , precision:0.7780555698747358 , log_loss:7.09648257949318 , recall_score:0.8284937973432869 , f1_score:0.8024829199564026\n"
     ]
    },
    {
     "data": {
      "image/png": "[encoded data removed]",
      "text/plain": [
       "<Figure size 432x288 with 1 Axes>"
      ]
     },
     "metadata": {
      "needs_background": "light"
     },
     "output_type": "display_data"
    }
   ],
   "source": [
    "# Fine, Data become balanced Now we need to apply the same algorithm and check accuracy vs recall \n",
    "#1. CART\n",
    "classifier = DecisionTreeClassifier(random_state =0)\n",
    "classifier.fit(x_train, y_train)\n",
    "y_pred = classifier.predict(x_test)\n",
    "cm = confusion_matrix(y_test, y_pred)  \n",
    "model_result.append(['DecisionTree',accuracy_score(y_test, y_pred),\\\n",
    "                     precision_score(y_test, y_pred),\n",
    "                     log_loss(y_test, y_pred),\n",
    "                     recall_score(y_test, y_pred),\n",
    "                     f1_score(y_test, y_pred)])\n",
    "print('Algorith:{} , Accuracy:{} , precision:{} , log_loss:{} , recall_score:{} , f1_score:{}'.format(model_result[-1][0],model_result[-1][1],model_result[-1][2],model_result[-1][3],model_result[-1][4],model_result[-1][5]))\n",
    "accuracies = cross_val_score(estimator = classifier, X =x_train, y = y_train, cv = 10)\n",
    "model_accuracy.append(['DecisionTree',accuracies.min(),accuracies.max(),accuracies.mean()])\n",
    "model_accuracy_10fold['DecisionTree'] = accuracies\n",
    "\n",
    "x_range = [x for x in range(1,11)]\n",
    "ax = sns.lineplot(x=x_range,y=accuracies,markers=True, dashes=False)\n",
    "ax.set_xticks(x_range)\n",
    "ax.set_title('Decision Tree 10 fold accuracy')\n",
    "ax.set_ylabel('Acuuracy')\n",
    "ax.set_xlabel('10 Fold')\n",
    "plt.show();"
   ]
  },
  {
   "cell_type": "code",
   "execution_count": 49,
   "metadata": {
    "colab": {
     "base_uri": "https://localhost:8080/",
     "height": 55
    },
    "colab_type": "code",
    "id": "k6vq_XqoSXTm",
    "outputId": "82313131-5d10-4c15-a134-0b35a7966eb2"
   },
   "outputs": [],
   "source": [
    "# Good we have a good accuracy and recall as well\n",
    "# this time to choose optimum hyperparameters to get a better result\n",
    "\n",
    "parameters={'criterion':['gini','entropy'],'splitter':['best','random'],\n",
    "            'max_depth': range(1,20,1),  'min_samples_split' : range(10,500,20)}\n",
    "\n",
    "# Applying Grid Search to find the best model and the best parameters\n",
    "from sklearn.model_selection import GridSearchCV\n",
    "grid_search = GridSearchCV(estimator = classifier,\n",
    "                           param_grid = parameters,\n",
    "                           scoring = 'accuracy',\n",
    "                           cv = 10,\n",
    "                           n_jobs = -1)"
   ]
  },
  {
   "cell_type": "code",
   "execution_count": null,
   "metadata": {},
   "outputs": [],
   "source": [
    "grid_search = grid_search.fit(x_train, y_train)\n",
    "print('best_accuracy = {}'.format(grid_search.best_score_))\n",
    "print('best_parameters = {}'.format(grid_search.best_params_))"
   ]
  },
  {
   "cell_type": "code",
   "execution_count": null,
   "metadata": {
    "colab": {
     "base_uri": "https://localhost:8080/",
     "height": 332
    },
    "colab_type": "code",
    "id": "k5Ox9BDmSXTo",
    "outputId": "95d1ea98-fb86-43d5-8d01-76d357b003b6"
   },
   "outputs": [],
   "source": [
    "# Again we will test CART algorith with a new hyperparameters that we got\n",
    "model_result = []\n",
    "model_accuracy = []\n",
    "model_accuracy_10fold = pd.DataFrame()\n",
    "#1. CART\n",
    "classifier = DecisionTreeClassifier(criterion= 'gini',max_depth=11,  min_samples_split=50, splitter='best',random_state =0)\n",
    "classifier.fit(x_train, y_train)\n",
    "y_pred = classifier.predict(x_test)\n",
    "cm = confusion_matrix(y_test, y_pred)  \n",
    "model_result.append(['DecisionTree',accuracy_score(y_test, y_pred),\\\n",
    "                     precision_score(y_test, y_pred),\n",
    "                     log_loss(y_test, y_pred),\n",
    "                     recall_score(y_test, y_pred),\n",
    "                     f1_score(y_test, y_pred)])\n",
    "print('Algorith:{} , Accuracy:{} , precision:{} , log_loss:{} , recall_score:{} , f1_score:{}'.format(model_result[-1][0],model_result[-1][1],model_result[-1][2],model_result[-1][3],model_result[-1][4],model_result[-1][5]))\n",
    "accuracies = cross_val_score(estimator = classifier, X =x_train, y = y_train, cv = 10)\n",
    "model_accuracy.append(['DecisionTree',accuracies.min(),accuracies.max(),accuracies.mean()])\n",
    "model_accuracy_10fold['DecisionTree'] = accuracies\n",
    "\n",
    "x_range = [x for x in range(1,11)]\n",
    "ax = sns.lineplot(x=x_range,y=accuracies,markers=True, dashes=False)\n",
    "ax.set_xticks(x_range)\n",
    "ax.set_title('Decision Tree 10 fold accuracy')\n",
    "ax.set_ylabel('Acuuracy')\n",
    "ax.set_xlabel('10 Fold')\n",
    "plt.show();"
   ]
  },
  {
   "cell_type": "code",
   "execution_count": 48,
   "metadata": {
    "colab": {
     "base_uri": "https://localhost:8080/",
     "height": 332
    },
    "colab_type": "code",
    "id": "9ueuhBC9SXTt",
    "outputId": "59e202fc-8d39-4b57-c55f-f93222332539"
   },
   "outputs": [
    {
     "name": "stdout",
     "output_type": "stream",
     "text": [
      "Algorith:LogisticRegression , Accuracy:0.8878242924528302 , precision:0.512396694214876 , log_loss:3.8744128389202674 , recall_score:0.0135697089078573 , f1_score:0.026439232409381667\n"
     ]
    },
    {
     "data": {
      "image/png": "[encoded data removed]",
      "text/plain": [
       "<Figure size 432x288 with 1 Axes>"
      ]
     },
     "metadata": {
      "needs_background": "light"
     },
     "output_type": "display_data"
    }
   ],
   "source": [
    "# 2 Logistic Regression\n",
    "from sklearn.linear_model import LogisticRegression\n",
    "classifier = LogisticRegression(random_state = 0,C=50,fit_intercept=True)\n",
    "classifier.fit(x_train, y_train)\n",
    "y_pred = classifier.predict(x_test)\n",
    "cm = confusion_matrix(y_test, y_pred)  \n",
    "model_result.append(['LogisticRegression',accuracy_score(y_test, y_pred),\\\n",
    "                     precision_score(y_test, y_pred),\n",
    "                     log_loss(y_test, y_pred),\n",
    "                     recall_score(y_test, y_pred),\n",
    "                     f1_score(y_test, y_pred)])\n",
    "print('Algorith:{} , Accuracy:{} , precision:{} , log_loss:{} , recall_score:{} , f1_score:{}'.format(model_result[-1][0],model_result[-1][1],model_result[-1][2],model_result[-1][3],model_result[-1][4],model_result[-1][5]))\n",
    "accuracies = cross_val_score(estimator = classifier, X =x_train, y = y_train, cv = 10)\n",
    "model_accuracy.append(['LogisticRegression',accuracies.min(),accuracies.max(),accuracies.mean()])\n",
    "model_accuracy_10fold['LogisticRegression'] = accuracies\n",
    "\n",
    "x_range = [x for x in range(1,11)]\n",
    "ax = sns.lineplot(x=x_range,y=accuracies,markers=True, dashes=False)\n",
    "ax.set_xticks(x_range)\n",
    "ax.set_title('Logistic regression 10 fold accuracy')\n",
    "ax.set_ylabel('Acuuracy')\n",
    "ax.set_xlabel('10 Fold')\n",
    "plt.show();\n"
   ]
  },
  {
   "cell_type": "code",
   "execution_count": null,
   "metadata": {},
   "outputs": [],
   "source": [
    "parameters = {'C': [1, 2, 3, 5,10,20,30,40,50,100,200,300,500], 'fit_intercept': [True , False]}\n",
    "grid_search = GridSearchCV(estimator = classifier,\n",
    "                           param_grid = parameters,\n",
    "                           scoring = 'accuracy',\n",
    "                           cv = 10,\n",
    "                           n_jobs = -1)\n",
    "grid_search = grid_search.fit(x_train, y_train)\n",
    "print('best_accuracy:{}'.format(grid_search.best_score_))\n",
    "print('best_parameters:{}'.format(grid_search.best_params_))"
   ]
  },
  {
   "cell_type": "markdown",
   "metadata": {
    "colab_type": "text",
    "id": "vbk02WoiXHsg"
   },
   "source": []
  },
  {
   "cell_type": "code",
   "execution_count": 49,
   "metadata": {
    "colab": {},
    "colab_type": "code",
    "id": "mzEPmnmHSXTz"
   },
   "outputs": [],
   "source": [
    "#Scale data\n",
    "x_train_columns = x_train.columns\n",
    "from sklearn.preprocessing import StandardScaler\n",
    "scaler = StandardScaler()\n",
    "x_train = scaler.fit_transform(x_train)  \n",
    "x_test = scaler.transform(x_test) "
   ]
  },
  {
   "cell_type": "code",
   "execution_count": 50,
   "metadata": {},
   "outputs": [
    {
     "name": "stdout",
     "output_type": "stream",
     "text": [
      "Algorith:Multi- layer perception , Accuracy:0.8877505896226415 , precision:0.0 , log_loss:3.876957285484152 , recall_score:0.0 , f1_score:0.0\n"
     ]
    },
    {
     "data": {
      "image/png": "[encoded data removed]",
      "text/plain": [
       "<Figure size 432x288 with 1 Axes>"
      ]
     },
     "metadata": {
      "needs_background": "light"
     },
     "output_type": "display_data"
    }
   ],
   "source": [
    "#Multilayer perceptron\n",
    "from sklearn.neural_network import MLPClassifier\n",
    "number_neurons_in_layer = 5\n",
    "classifier = MLPClassifier(hidden_layer_sizes=(number_neurons_in_layer,2), max_iter=500, alpha=0.01,\n",
    "                     solver='sgd', verbose=0,  random_state=0,tol=0.000000001)\n",
    "classifier.fit(x_train, y_train)\n",
    "y_pred = classifier.predict(x_test)\n",
    "cm = confusion_matrix(y_test, y_pred)  \n",
    "model_result.append(['Multi- layer perception',accuracy_score(y_test, y_pred),\\\n",
    "                     precision_score(y_test, y_pred),\n",
    "                     log_loss(y_test, y_pred),\n",
    "                     recall_score(y_test, y_pred),\n",
    "                     f1_score(y_test, y_pred)])\n",
    "print('Algorith:{} , Accuracy:{} , precision:{} , log_loss:{} , recall_score:{} , f1_score:{}'.format(model_result[-1][0],model_result[-1][1],model_result[-1][2],model_result[-1][3],model_result[-1][4],model_result[-1][5]))\n",
    "accuracies = cross_val_score(estimator = classifier, X =x_train, y = y_train, cv = 10)\n",
    "accuracies.mean()\n",
    "accuracies.std()\n",
    "model_accuracy.append(['Multilayer perceptron',accuracies.min(),accuracies.max(),accuracies.mean()])\n",
    "model_accuracy_10fold['Multilayer perceptron'] = accuracies\n",
    "\n",
    "x_range = [x for x in range(1,11)]\n",
    "ax = sns.lineplot(x=x_range,y=accuracies,markers=True, dashes=False)\n",
    "ax.set_xticks(x_range)\n",
    "ax.set_title('Multilayer perceptron 10 fold accuracy')\n",
    "ax.set_ylabel('Acuuracy')\n",
    "ax.set_xlabel('10 Fold')\n",
    "plt.show()"
   ]
  },
  {
   "cell_type": "code",
   "execution_count": 51,
   "metadata": {
    "colab": {
     "base_uri": "https://localhost:8080/",
     "height": 301
    },
    "colab_type": "code",
    "id": "YGAcuymfSXUP",
    "outputId": "897657e0-9c2f-4250-ebd7-d20aecc4551a"
   },
   "outputs": [
    {
     "name": "stdout",
     "output_type": "stream",
     "text": [
      "\n",
      "Table: Weight matrix of MLP\n",
      "\n",
      "                          Hidden2.1  Hidden2.2  Hidden2.3  Hidden2.4  Hidden2.5  readmitted<30  readmitted>30\n",
      "number_inpatient          -0.092917  -0.577346   0.060443   0.601364  -0.357239       0.000000       0.000000\n",
      "discharge_disposition_id   0.289305  -0.213486   0.345855   0.248613  -0.178939       0.000000       0.000000\n",
      "number_emergency           0.384385  -0.239050   0.024929   0.338258  -0.381641       0.000000       0.000000\n",
      "number_diagnoses           0.022878  -0.251759   0.276086  -0.199917   0.413080       0.000000       0.000000\n",
      "age                        0.286226  -0.183842  -0.016930  -0.051829  -0.338915       0.000000       0.000000\n",
      "num_lab_procedures         0.452394  -0.121118   0.357010   0.003621   0.057203       0.000000       0.000000\n",
      "num_medications           -0.203889   0.086977  -0.061036   0.009459  -0.527297       0.000000       0.000000\n",
      "time_in_hospital           0.239628  -0.259513  -0.004872   0.019765   0.234827       0.000000       0.000000\n",
      "diabetesMed               -0.222763  -0.152775   0.158402  -0.164978   0.105270       0.000000       0.000000\n",
      "insulin                    0.065191  -0.027853  -0.311636   0.172939  -0.142846       0.000000       0.000000\n",
      "admission_type_id          0.045175  -0.004387   0.376381  -0.096379  -0.140710       0.000000       0.000000\n",
      "diag_1                     0.004718   0.040424  -0.276667   0.024807  -0.160600       0.000000       0.000000\n",
      "number_outpatient         -0.141860   0.013216   0.256102  -0.217856  -0.254185       0.000000       0.000000\n",
      "metformin                 -0.148984   0.126515  -0.365959  -0.041511  -0.336744       0.000000       0.000000\n",
      "diag_2                     0.373453  -0.021008   0.405398   0.182472   0.045377       0.000000       0.000000\n",
      "num_procedures            -0.352646   0.095570  -0.290963  -0.175468  -0.272705       0.000000       0.000000\n",
      "rosiglitazone             -0.187690   0.049023  -0.339772  -0.124179  -0.029819       0.000000       0.000000\n",
      "race                      -0.063507   0.003454  -0.355978   0.029845   0.310217       0.000000       0.000000\n",
      "admission_source_id        0.014251   0.001329  -0.319604  -0.051667  -0.105322       0.000000       0.000000\n",
      "medical_specialty         -0.147606   0.030373  -0.485553   0.037803  -0.278378       0.000000       0.000000\n",
      "A1Cresult                  0.201487   0.000805   0.164687   0.253556  -0.055698       0.000000       0.000000\n",
      "nateglinide               -0.085475   0.010025   0.048500  -0.252744   0.137440       0.000000       0.000000\n",
      "glyburide                 -0.104319  -0.023584   0.110720  -0.050734   0.314336       0.000000       0.000000\n",
      "Hidden2.1                 24.000000   0.000000   0.000000   0.000000   0.000000       0.255578      -0.104206\n",
      "Hidden2.2                 25.000000   0.000000   0.000000   0.000000   0.000000       0.651583       0.021855\n",
      "Hidden2.3                 26.000000   0.000000   0.000000   0.000000   0.000000      -0.084359       0.272129\n",
      "Hidden2.4                 27.000000   0.000000   0.000000   0.000000   0.000000      -0.289521      -0.341679\n",
      "Hidden2.5                 28.000000   0.000000   0.000000   0.000000   0.000000       0.102120      -0.332032\n"
     ]
    }
   ],
   "source": [
    "number_neurons_in_layer = 5\n",
    "x_train_columns_count = len(x_train_columns)\n",
    "hidden_columns = np.array([])\n",
    "for i in np.arange(1,number_neurons_in_layer+1):\n",
    "    hidden_columns = np.append(hidden_columns,'Hidden2.'+str(i))\n",
    "\n",
    "hidden_columns = np.concatenate((np.array(hidden_columns) , np.array(['readmitted<30','readmitted>30'])), axis=0)\n",
    "row_index = np.concatenate((np.array(x_train_columns),np.array(hidden_columns[:])), axis=0)\n",
    "\n",
    "mlp_weight = pd.DataFrame(columns=hidden_columns)\n",
    "mlp_weight[hidden_columns[0]] = np.arange(1,len(row_index)-1)\n",
    "mlp_weight = pd.DataFrame(mlp_weight.iloc[:,:].values,columns=mlp_weight.columns,index=row_index[:-2])\n",
    "\n",
    "col_index = 0\n",
    "for row_index in np.arange(number_neurons_in_layer): \n",
    "    mlp_weight.iloc[0:x_train_columns_count,col_index] = classifier.coefs_[0][:,row_index]\n",
    "    col_index = col_index+1\n",
    "\n",
    "\n",
    "mlp_weight.iloc[x_train_columns_count:x_train_columns_count+number_neurons_in_layer,-2] = classifier.coefs_[1][:,0]\n",
    "mlp_weight.iloc[x_train_columns_count:x_train_columns_count+number_neurons_in_layer,-1] = classifier.coefs_[1][:,1]\n",
    "\n",
    "mlp_weight.fillna(0,inplace=True)\n",
    "\n",
    "# Table: Weight matrix of MLP\n",
    "print('\\nTable: Weight matrix of MLP\\n')\n",
    "print(mlp_weight.to_string(index=True))\n",
    "\n"
   ]
  },
  {
   "cell_type": "code",
   "execution_count": 52,
   "metadata": {
    "colab": {
     "base_uri": "https://localhost:8080/",
     "height": 1000
    },
    "colab_type": "code",
    "id": "3EMbGOXGSXUZ",
    "outputId": "d8d44b1f-e21d-4caa-8f48-e7cc06372258"
   },
   "outputs": [
    {
     "name": "stderr",
     "output_type": "stream",
     "text": [
      "No handles with labels found to put in legend.\n"
     ]
    },
    {
     "name": "stdout",
     "output_type": "stream",
     "text": [
      "Table 1. Model Accuracy\n",
      "\n",
      "                 Algorithm  accuracy  precision  log_loss   recall  f1_score\n",
      "0             DecisionTree  0.797858   0.155915  6.981836  0.18144  0.167712\n",
      "1       LogisticRegression  0.887824   0.512397  3.874413  0.01357  0.026439\n",
      "2  Multi- layer perception  0.887751   0.000000  3.876957  0.00000  0.000000\n",
      "\n",
      "\n",
      "\n",
      "Table 2. Model Avg. Accuracy\n",
      "\n",
      "               Algorithm       Min       Max      Mean\n",
      "0           DecisionTree  0.785948  0.806420  0.795057\n",
      "1     LogisticRegression  0.887324  0.889417  0.888594\n",
      "2  Multilayer perceptron  0.888798  0.888925  0.888823\n",
      "\n",
      "\n",
      "\n",
      "Table 3. Model Accuracy 10-fold\n",
      "\n",
      "       CART  Logistic Reg.       MLP\n",
      "0  0.793809       0.887324  0.888798\n",
      "1  0.796921       0.887815  0.888798\n",
      "2  0.788241       0.888634  0.888798\n",
      "3  0.793154       0.888798  0.888798\n",
      "4  0.806420       0.889289  0.888798\n",
      "5  0.798231       0.889125  0.888798\n",
      "6  0.785948       0.889125  0.888798\n",
      "7  0.794464       0.887651  0.888798\n",
      "8  0.797674       0.889417  0.888925\n",
      "9  0.795708       0.888761  0.888925\n",
      "\n",
      "\n",
      "\n"
     ]
    },
    {
     "data": {
      "image/png": "[encoded data removed]",
      "text/plain": [
       "<Figure size 432x288 with 1 Axes>"
      ]
     },
     "metadata": {
      "needs_background": "light"
     },
     "output_type": "display_data"
    }
   ],
   "source": [
    "#Plot final result \n",
    "dfmodel_result = pd.DataFrame(model_result,columns=['Algorithm','accuracy','precision','log_loss','recall','f1_score'])\n",
    "dfmodel_accuracy = pd.DataFrame(model_accuracy,columns=['Algorithm','Min','Max','Mean'])\n",
    "print('Table 1. Model Accuracy\\n')\n",
    "print(dfmodel_result.to_string(index=True))\n",
    "print('\\n\\n')\n",
    "print('Table 2. Model Avg. Accuracy\\n')\n",
    "print(dfmodel_accuracy.to_string(index=True))\n",
    "print('\\n\\n')\n",
    "print('Table 3. Model Accuracy 10-fold\\n')\n",
    "m= model_accuracy_10fold.rename(columns={'DecisionTree':'CART','LogisticRegression':'Logistic Reg.','Multilayer perceptron':'MLP' , 'GradientBoostingClassifier':'GradientBoosting'})\n",
    "print(m.to_string(index=True))\n",
    "print('\\n\\n')\n",
    "dfmodel_accuracy.sort_values(by='Max',inplace=True)\n",
    "best_algorithm = dfmodel_accuracy.loc[dfmodel_accuracy['Max'] == dfmodel_accuracy['Max'].max(),'Algorithm'].values[0]\n",
    "ax = sns.pointplot(x='Algorithm',y='Min',color='red',data=dfmodel_accuracy,label=\"Min\", linestyle=\"-\")\n",
    "ax = sns.pointplot(x='Algorithm',y='Max',color = 'green',data=dfmodel_accuracy,label=\"Max\", linestyle=\"-\")\n",
    "ax.set_title('Max/Min accuracy of selected algorithms')\n",
    "ax.set_ylabel('Acuuracy')\n",
    "ax.set_xlabel('Algorithms')\n",
    "ax.legend()\n",
    "plt.gcf().autofmt_xdate()\n",
    "plt.show()"
   ]
  },
  {
   "cell_type": "markdown",
   "metadata": {
    "colab_type": "text",
    "id": "4q5GIPlRYJFD"
   },
   "source": []
  }
 ],
 "metadata": {
  "colab": {
   "collapsed_sections": [
    "ZeOEiUx2SXT4",
    "mVGQVrNQSXT7",
    "DjquWKGPSXT-"
   ],
   "name": "Copy of Algorithm2019.ipynb",
   "provenance": []
  },
  "kernelspec": {
   "display_name": "Python 3",
   "language": "python",
   "name": "python3"
  },
  "language_info": {
   "codemirror_mode": {
    "name": "ipython",
    "version": 3
   },
   "file_extension": ".py",
   "mimetype": "text/x-python",
   "name": "python",
   "nbconvert_exporter": "python",
   "pygments_lexer": "ipython3",
   "version": "3.6.8"
  }
 },
 "nbformat": 4,
 "nbformat_minor": 1
}
